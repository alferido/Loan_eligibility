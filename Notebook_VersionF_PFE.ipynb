{
  "nbformat": 4,
  "nbformat_minor": 0,
  "metadata": {
    "colab": {
      "name": "Notebook_VersionF - PFE.ipynb",
      "provenance": [],
      "collapsed_sections": [
        "IIdc4Vb54fBV",
        "TZC9Movp4_Wn",
        "ENx1ZwMfcWi3",
        "8D3f0tnGcrU6",
        "TxjePtnodG8i",
        "VBzsALu1dSEd",
        "nCvRv88O7OoM",
        "z1YYhwy65Rzx",
        "1drMpnkK7KMu",
        "TDIhF_oVAIbI",
        "jdvkX_ouAYZ5",
        "TjSt3rX3AvPF",
        "q0aVt9yPEalM",
        "vJNTksuZGMeb",
        "hIBY94FeJynT",
        "W27BLjfoKCRC",
        "kg3_S2_Ce68x",
        "Ukiz5xOhfx_r",
        "oVpoRjgFbG1a",
        "4j8LqYxWgrC4",
        "PSkaVqXakOMW",
        "fE0fBJursvT0",
        "Dg5cGiuni4tX",
        "wA2j_VHdjHIq",
        "kSnVypHvq1jJ",
        "4kkFZ8Au4dlv"
      ],
      "include_colab_link": true
    },
    "kernelspec": {
      "display_name": "Python 3",
      "name": "python3"
    },
    "language_info": {
      "name": "python"
    }
  },
  "cells": [
    {
      "cell_type": "markdown",
      "metadata": {
        "id": "view-in-github",
        "colab_type": "text"
      },
      "source": [
        "<a href=\"https://colab.research.google.com/github/alferido/Loan_eligibility/blob/main/Notebook_VersionF_PFE.ipynb\" target=\"_parent\"><img src=\"https://colab.research.google.com/assets/colab-badge.svg\" alt=\"Open In Colab\"/></a>"
      ]
    },
    {
      "cell_type": "markdown",
      "metadata": {
        "id": "Zd6WDqq53iRD"
      },
      "source": [
        "# **Notebook Pour Le Projet de Fin d'études**\n",
        "\n",
        "Prédiction des attributions de prêts bancaires à l'aide de l'apprentissage automatique"
      ]
    },
    {
      "cell_type": "markdown",
      "metadata": {
        "id": "51TH61As3703"
      },
      "source": [
        "## **1. Imporatation des packages**"
      ]
    },
    {
      "cell_type": "code",
      "metadata": {
        "id": "4POe2IXF3_TX"
      },
      "source": [
        "import pandas as pd\n",
        "import numpy as np\n",
        "import matplotlib.pyplot as plt\n",
        "import seaborn as sns\n",
        "from sklearn.preprocessing import LabelEncoder\n",
        "from sklearn.model_selection import train_test_split, GridSearchCV\n",
        "from sklearn.linear_model import LogisticRegression\n",
        "from sklearn.neighbors import KNeighborsClassifier\n",
        "from sklearn.ensemble import RandomForestClassifier, BaggingClassifier, GradientBoostingClassifier\n",
        "from sklearn.metrics import accuracy_score\n",
        "\n",
        "from sklearn.svm import SVC "
      ],
      "execution_count": null,
      "outputs": []
    },
    {
      "cell_type": "markdown",
      "metadata": {
        "id": "eBisGXyw4GXM"
      },
      "source": [
        "## **2. Lecture de la base de données**"
      ]
    },
    {
      "cell_type": "code",
      "metadata": {
        "colab": {
          "base_uri": "https://localhost:8080/",
          "height": 241
        },
        "id": "W88G4QCa4LuY",
        "outputId": "27daff36-81f9-4bb4-fbed-2c498524c5ba"
      },
      "source": [
        "df = pd.read_csv('/content/train_u6lujuX_CVtuZ9i.csv')\n",
        "df.head()"
      ],
      "execution_count": null,
      "outputs": [
        {
          "output_type": "execute_result",
          "data": {
            "text/html": [
              "<div>\n",
              "<style scoped>\n",
              "    .dataframe tbody tr th:only-of-type {\n",
              "        vertical-align: middle;\n",
              "    }\n",
              "\n",
              "    .dataframe tbody tr th {\n",
              "        vertical-align: top;\n",
              "    }\n",
              "\n",
              "    .dataframe thead th {\n",
              "        text-align: right;\n",
              "    }\n",
              "</style>\n",
              "<table border=\"1\" class=\"dataframe\">\n",
              "  <thead>\n",
              "    <tr style=\"text-align: right;\">\n",
              "      <th></th>\n",
              "      <th>Loan_ID</th>\n",
              "      <th>Gender</th>\n",
              "      <th>Married</th>\n",
              "      <th>Dependents</th>\n",
              "      <th>Education</th>\n",
              "      <th>Self_Employed</th>\n",
              "      <th>ApplicantIncome</th>\n",
              "      <th>CoapplicantIncome</th>\n",
              "      <th>LoanAmount</th>\n",
              "      <th>Loan_Amount_Term</th>\n",
              "      <th>Credit_History</th>\n",
              "      <th>Property_Area</th>\n",
              "      <th>Loan_Status</th>\n",
              "    </tr>\n",
              "  </thead>\n",
              "  <tbody>\n",
              "    <tr>\n",
              "      <th>0</th>\n",
              "      <td>LP001002</td>\n",
              "      <td>Male</td>\n",
              "      <td>No</td>\n",
              "      <td>0</td>\n",
              "      <td>Graduate</td>\n",
              "      <td>No</td>\n",
              "      <td>5849</td>\n",
              "      <td>0.0</td>\n",
              "      <td>NaN</td>\n",
              "      <td>360.0</td>\n",
              "      <td>1.0</td>\n",
              "      <td>Urban</td>\n",
              "      <td>Y</td>\n",
              "    </tr>\n",
              "    <tr>\n",
              "      <th>1</th>\n",
              "      <td>LP001003</td>\n",
              "      <td>Male</td>\n",
              "      <td>Yes</td>\n",
              "      <td>1</td>\n",
              "      <td>Graduate</td>\n",
              "      <td>No</td>\n",
              "      <td>4583</td>\n",
              "      <td>1508.0</td>\n",
              "      <td>128.0</td>\n",
              "      <td>360.0</td>\n",
              "      <td>1.0</td>\n",
              "      <td>Rural</td>\n",
              "      <td>N</td>\n",
              "    </tr>\n",
              "    <tr>\n",
              "      <th>2</th>\n",
              "      <td>LP001005</td>\n",
              "      <td>Male</td>\n",
              "      <td>Yes</td>\n",
              "      <td>0</td>\n",
              "      <td>Graduate</td>\n",
              "      <td>Yes</td>\n",
              "      <td>3000</td>\n",
              "      <td>0.0</td>\n",
              "      <td>66.0</td>\n",
              "      <td>360.0</td>\n",
              "      <td>1.0</td>\n",
              "      <td>Urban</td>\n",
              "      <td>Y</td>\n",
              "    </tr>\n",
              "    <tr>\n",
              "      <th>3</th>\n",
              "      <td>LP001006</td>\n",
              "      <td>Male</td>\n",
              "      <td>Yes</td>\n",
              "      <td>0</td>\n",
              "      <td>Not Graduate</td>\n",
              "      <td>No</td>\n",
              "      <td>2583</td>\n",
              "      <td>2358.0</td>\n",
              "      <td>120.0</td>\n",
              "      <td>360.0</td>\n",
              "      <td>1.0</td>\n",
              "      <td>Urban</td>\n",
              "      <td>Y</td>\n",
              "    </tr>\n",
              "    <tr>\n",
              "      <th>4</th>\n",
              "      <td>LP001008</td>\n",
              "      <td>Male</td>\n",
              "      <td>No</td>\n",
              "      <td>0</td>\n",
              "      <td>Graduate</td>\n",
              "      <td>No</td>\n",
              "      <td>6000</td>\n",
              "      <td>0.0</td>\n",
              "      <td>141.0</td>\n",
              "      <td>360.0</td>\n",
              "      <td>1.0</td>\n",
              "      <td>Urban</td>\n",
              "      <td>Y</td>\n",
              "    </tr>\n",
              "  </tbody>\n",
              "</table>\n",
              "</div>"
            ],
            "text/plain": [
              "    Loan_ID Gender Married  ... Credit_History Property_Area Loan_Status\n",
              "0  LP001002   Male      No  ...            1.0         Urban           Y\n",
              "1  LP001003   Male     Yes  ...            1.0         Rural           N\n",
              "2  LP001005   Male     Yes  ...            1.0         Urban           Y\n",
              "3  LP001006   Male     Yes  ...            1.0         Urban           Y\n",
              "4  LP001008   Male      No  ...            1.0         Urban           Y\n",
              "\n",
              "[5 rows x 13 columns]"
            ]
          },
          "metadata": {},
          "execution_count": 2
        }
      ]
    },
    {
      "cell_type": "markdown",
      "metadata": {
        "id": "nu8IeUh84cx8"
      },
      "source": [
        "## **3. Analyse Exploratoire des Données**"
      ]
    },
    {
      "cell_type": "markdown",
      "metadata": {
        "id": "IIdc4Vb54fBV"
      },
      "source": [
        "### **3.1. Analyse de forme**"
      ]
    },
    {
      "cell_type": "code",
      "metadata": {
        "colab": {
          "base_uri": "https://localhost:8080/"
        },
        "id": "LGDZwybu4d3s",
        "outputId": "7de3ea62-6eff-4dbc-ad80-d6bc7f1781e6"
      },
      "source": [
        "# La forme du dataframe\n",
        "print(df.shape)\n",
        "print(\"Le nombre de lignes :\", df.shape[0])\n",
        "print(\"Le nombre de colonnes :\", df.shape[1])"
      ],
      "execution_count": null,
      "outputs": [
        {
          "output_type": "stream",
          "name": "stdout",
          "text": [
            "(614, 13)\n",
            "Le nombre de lignes : 614\n",
            "Le nombre de colonnes : 13\n"
          ]
        }
      ]
    },
    {
      "cell_type": "code",
      "metadata": {
        "colab": {
          "base_uri": "https://localhost:8080/"
        },
        "id": "SHQyCcc74v8m",
        "outputId": "b0f89c81-9e8a-43bf-86df-8c1aa3cbd29a"
      },
      "source": [
        "# Liste des colonnes\n",
        "df.columns"
      ],
      "execution_count": null,
      "outputs": [
        {
          "output_type": "execute_result",
          "data": {
            "text/plain": [
              "Index(['Loan_ID', 'Gender', 'Married', 'Dependents', 'Education',\n",
              "       'Self_Employed', 'ApplicantIncome', 'CoapplicantIncome', 'LoanAmount',\n",
              "       'Loan_Amount_Term', 'Credit_History', 'Property_Area', 'Loan_Status'],\n",
              "      dtype='object')"
            ]
          },
          "metadata": {},
          "execution_count": 4
        }
      ]
    },
    {
      "cell_type": "code",
      "metadata": {
        "colab": {
          "base_uri": "https://localhost:8080/"
        },
        "id": "RbWCrDyo4yec",
        "outputId": "00b17169-2aee-4399-95fc-5267e7230a80"
      },
      "source": [
        "# Informations sur le dataframe\n",
        "df.info()"
      ],
      "execution_count": null,
      "outputs": [
        {
          "output_type": "stream",
          "name": "stdout",
          "text": [
            "<class 'pandas.core.frame.DataFrame'>\n",
            "RangeIndex: 614 entries, 0 to 613\n",
            "Data columns (total 13 columns):\n",
            " #   Column             Non-Null Count  Dtype  \n",
            "---  ------             --------------  -----  \n",
            " 0   Loan_ID            614 non-null    object \n",
            " 1   Gender             601 non-null    object \n",
            " 2   Married            611 non-null    object \n",
            " 3   Dependents         599 non-null    object \n",
            " 4   Education          614 non-null    object \n",
            " 5   Self_Employed      582 non-null    object \n",
            " 6   ApplicantIncome    614 non-null    int64  \n",
            " 7   CoapplicantIncome  614 non-null    float64\n",
            " 8   LoanAmount         592 non-null    float64\n",
            " 9   Loan_Amount_Term   600 non-null    float64\n",
            " 10  Credit_History     564 non-null    float64\n",
            " 11  Property_Area      614 non-null    object \n",
            " 12  Loan_Status        614 non-null    object \n",
            "dtypes: float64(4), int64(1), object(8)\n",
            "memory usage: 62.5+ KB\n"
          ]
        }
      ]
    },
    {
      "cell_type": "code",
      "metadata": {
        "colab": {
          "base_uri": "https://localhost:8080/"
        },
        "id": "d_qwVrxS41sr",
        "outputId": "958f7644-103b-4026-ac49-ff8b388680fa"
      },
      "source": [
        "# Les types de données\n",
        "df.dtypes.value_counts()"
      ],
      "execution_count": null,
      "outputs": [
        {
          "output_type": "execute_result",
          "data": {
            "text/plain": [
              "object     8\n",
              "float64    4\n",
              "int64      1\n",
              "dtype: int64"
            ]
          },
          "metadata": {},
          "execution_count": 6
        }
      ]
    },
    {
      "cell_type": "code",
      "metadata": {
        "colab": {
          "base_uri": "https://localhost:8080/"
        },
        "id": "JkKoRwPN430z",
        "outputId": "4673c267-5951-46a9-8883-8faad3588a44"
      },
      "source": [
        "# Descriptif statistique des données\n",
        "df.describe()"
      ],
      "execution_count": null,
      "outputs": [
        {
          "output_type": "execute_result",
          "data": {
            "text/html": [
              "<div>\n",
              "<style scoped>\n",
              "    .dataframe tbody tr th:only-of-type {\n",
              "        vertical-align: middle;\n",
              "    }\n",
              "\n",
              "    .dataframe tbody tr th {\n",
              "        vertical-align: top;\n",
              "    }\n",
              "\n",
              "    .dataframe thead th {\n",
              "        text-align: right;\n",
              "    }\n",
              "</style>\n",
              "<table border=\"1\" class=\"dataframe\">\n",
              "  <thead>\n",
              "    <tr style=\"text-align: right;\">\n",
              "      <th></th>\n",
              "      <th>ApplicantIncome</th>\n",
              "      <th>CoapplicantIncome</th>\n",
              "      <th>LoanAmount</th>\n",
              "      <th>Loan_Amount_Term</th>\n",
              "      <th>Credit_History</th>\n",
              "    </tr>\n",
              "  </thead>\n",
              "  <tbody>\n",
              "    <tr>\n",
              "      <th>count</th>\n",
              "      <td>614.000000</td>\n",
              "      <td>614.000000</td>\n",
              "      <td>592.000000</td>\n",
              "      <td>600.00000</td>\n",
              "      <td>564.000000</td>\n",
              "    </tr>\n",
              "    <tr>\n",
              "      <th>mean</th>\n",
              "      <td>5403.459283</td>\n",
              "      <td>1621.245798</td>\n",
              "      <td>146.412162</td>\n",
              "      <td>342.00000</td>\n",
              "      <td>0.842199</td>\n",
              "    </tr>\n",
              "    <tr>\n",
              "      <th>std</th>\n",
              "      <td>6109.041673</td>\n",
              "      <td>2926.248369</td>\n",
              "      <td>85.587325</td>\n",
              "      <td>65.12041</td>\n",
              "      <td>0.364878</td>\n",
              "    </tr>\n",
              "    <tr>\n",
              "      <th>min</th>\n",
              "      <td>150.000000</td>\n",
              "      <td>0.000000</td>\n",
              "      <td>9.000000</td>\n",
              "      <td>12.00000</td>\n",
              "      <td>0.000000</td>\n",
              "    </tr>\n",
              "    <tr>\n",
              "      <th>25%</th>\n",
              "      <td>2877.500000</td>\n",
              "      <td>0.000000</td>\n",
              "      <td>100.000000</td>\n",
              "      <td>360.00000</td>\n",
              "      <td>1.000000</td>\n",
              "    </tr>\n",
              "    <tr>\n",
              "      <th>50%</th>\n",
              "      <td>3812.500000</td>\n",
              "      <td>1188.500000</td>\n",
              "      <td>128.000000</td>\n",
              "      <td>360.00000</td>\n",
              "      <td>1.000000</td>\n",
              "    </tr>\n",
              "    <tr>\n",
              "      <th>75%</th>\n",
              "      <td>5795.000000</td>\n",
              "      <td>2297.250000</td>\n",
              "      <td>168.000000</td>\n",
              "      <td>360.00000</td>\n",
              "      <td>1.000000</td>\n",
              "    </tr>\n",
              "    <tr>\n",
              "      <th>max</th>\n",
              "      <td>81000.000000</td>\n",
              "      <td>41667.000000</td>\n",
              "      <td>700.000000</td>\n",
              "      <td>480.00000</td>\n",
              "      <td>1.000000</td>\n",
              "    </tr>\n",
              "  </tbody>\n",
              "</table>\n",
              "</div>"
            ],
            "text/plain": [
              "       ApplicantIncome  CoapplicantIncome  ...  Loan_Amount_Term  Credit_History\n",
              "count       614.000000         614.000000  ...         600.00000      564.000000\n",
              "mean       5403.459283        1621.245798  ...         342.00000        0.842199\n",
              "std        6109.041673        2926.248369  ...          65.12041        0.364878\n",
              "min         150.000000           0.000000  ...          12.00000        0.000000\n",
              "25%        2877.500000           0.000000  ...         360.00000        1.000000\n",
              "50%        3812.500000        1188.500000  ...         360.00000        1.000000\n",
              "75%        5795.000000        2297.250000  ...         360.00000        1.000000\n",
              "max       81000.000000       41667.000000  ...         480.00000        1.000000\n",
              "\n",
              "[8 rows x 5 columns]"
            ]
          },
          "metadata": {},
          "execution_count": 7
        }
      ]
    },
    {
      "cell_type": "code",
      "metadata": {
        "colab": {
          "base_uri": "https://localhost:8080/"
        },
        "id": "k30bMKMZ46eZ",
        "outputId": "8b697ffd-05e3-443f-e5a6-977f974d609c"
      },
      "source": [
        "# Le nombre de valeurs manquantes de chaque variable du dataframe\n",
        "df.isna().sum().sort_values(ascending=False)"
      ],
      "execution_count": null,
      "outputs": [
        {
          "output_type": "execute_result",
          "data": {
            "text/plain": [
              "Credit_History       50\n",
              "Self_Employed        32\n",
              "LoanAmount           22\n",
              "Dependents           15\n",
              "Loan_Amount_Term     14\n",
              "Gender               13\n",
              "Married               3\n",
              "Loan_Status           0\n",
              "Property_Area         0\n",
              "CoapplicantIncome     0\n",
              "ApplicantIncome       0\n",
              "Education             0\n",
              "Loan_ID               0\n",
              "dtype: int64"
            ]
          },
          "metadata": {},
          "execution_count": 8
        }
      ]
    },
    {
      "cell_type": "code",
      "metadata": {
        "colab": {
          "base_uri": "https://localhost:8080/"
        },
        "id": "NPTZYHiQ48yR",
        "outputId": "c927c5cc-f8d5-4de8-f903-4ecb112e92ac"
      },
      "source": [
        "# Le nombre total de valeurs manquantes\n",
        "print(\"Le nombre total de variables manquantes est de\", (df.isna().sum()).sum())"
      ],
      "execution_count": null,
      "outputs": [
        {
          "output_type": "stream",
          "name": "stdout",
          "text": [
            "Le nombre total de variables manquantes est de 149\n"
          ]
        }
      ]
    },
    {
      "cell_type": "markdown",
      "metadata": {
        "id": "TZC9Movp4_Wn"
      },
      "source": [
        "### **3.2. Analyse de fond**"
      ]
    },
    {
      "cell_type": "markdown",
      "metadata": {
        "id": "aMRlGNTdb9FI"
      },
      "source": [
        "#### **3.2.1. Analyse de la varible cible (Loan_Status)**"
      ]
    },
    {
      "cell_type": "code",
      "metadata": {
        "colab": {
          "base_uri": "https://localhost:8080/"
        },
        "id": "llvxN19M5AJz",
        "outputId": "9f22ff31-8e92-47be-f0e0-7b9dfbb7717e"
      },
      "source": [
        "# Analyse de la variable cible 'Loan_Status'\n",
        "# Note: normalize=True pour avoir les resultats en pourcentage \n",
        "df['Loan_Status'].value_counts(normalize=True)"
      ],
      "execution_count": null,
      "outputs": [
        {
          "output_type": "execute_result",
          "data": {
            "text/plain": [
              "Y    0.687296\n",
              "N    0.312704\n",
              "Name: Loan_Status, dtype: float64"
            ]
          },
          "metadata": {},
          "execution_count": 10
        }
      ]
    },
    {
      "cell_type": "code",
      "metadata": {
        "colab": {
          "base_uri": "https://localhost:8080/"
        },
        "id": "JjKlYiZv5EEO",
        "outputId": "d26c4ad6-4f1e-4bee-d50a-959b211bd8bc"
      },
      "source": [
        "# Visualisation de la variable target 'Loan_Status' avec un diagramme à barre\n",
        "sns.countplot(x = 'Loan_Status', data = df)\n",
        "plt.title(\"Status de la demande de crédit bancaire\")\n",
        "plt.show()"
      ],
      "execution_count": null,
      "outputs": [
        {
          "output_type": "display_data",
          "data": {
            "image/png": "[encoded data removed]",
            "text/plain": [
              "<Figure size 432x288 with 1 Axes>"
            ]
          },
          "metadata": {
            "needs_background": "light"
          }
        }
      ]
    },
    {
      "cell_type": "markdown",
      "metadata": {
        "id": "ENx1ZwMfcWi3"
      },
      "source": [
        "#### **3.2.2. Analyse des variables catégorielles nominales**"
      ]
    },
    {
      "cell_type": "code",
      "metadata": {
        "colab": {
          "base_uri": "https://localhost:8080/"
        },
        "id": "ekfSwk2l5H5g",
        "outputId": "442915a9-e829-4f4d-e935-7fee001d538f"
      },
      "source": [
        "# Analyse des variables catégorielle à l'aide des diagrammes à barre\n",
        "\n",
        "plt.figure(figsize=(20, 5))\n",
        "\n",
        "# Gender \n",
        "plt.subplot(1, 3, 1)\n",
        "sns.countplot(x = 'Gender', data = df).set_title(\"Le genre du demandeur\")\n",
        "\n",
        "# Married\n",
        "plt.subplot(1, 3, 2)\n",
        "sns.countplot(x = 'Married', data = df).set_title(\"Le demandeur est-t'il marrié(e) ?\")\n",
        "\n",
        "# Self_Employed\n",
        "plt.subplot(1, 3, 3)\n",
        "sns.countplot(x = 'Self_Employed', data = df).set_title(\"Le demandeur est-t'il un travailleur indépendant(e) ?\")\n",
        "\n",
        "# On affiche les graphiques\n",
        "plt.show()"
      ],
      "execution_count": null,
      "outputs": [
        {
          "output_type": "display_data",
          "data": {
            "image/png": "[encoded data removed]",
            "text/plain": [
              "<Figure size 1440x360 with 3 Axes>"
            ]
          },
          "metadata": {
            "needs_background": "light"
          }
        }
      ]
    },
    {
      "cell_type": "markdown",
      "metadata": {
        "id": "8D3f0tnGcrU6"
      },
      "source": [
        "#### **3.2.3. Analyse des variables catégorielles ordinales**"
      ]
    },
    {
      "cell_type": "code",
      "metadata": {
        "colab": {
          "base_uri": "https://localhost:8080/"
        },
        "id": "OiAgDpRX5MEs",
        "outputId": "99844322-3c7c-4529-fa40-5b1f432be9d0"
      },
      "source": [
        "# Analyse des variables ordinales catégorielles à l'aide des diagrammes à barres\n",
        "\n",
        "plt.figure(figsize=(20, 5))\n",
        "\n",
        "# Dependents \n",
        "plt.subplot(1, 3, 1)\n",
        "sns.countplot(x = 'Dependents', data = df).set_title(\"Nombre d'enfants du demandeur\") \n",
        "\n",
        "# Education\n",
        "plt.subplot(1, 3, 2)\n",
        "sns.countplot(x = 'Education', data = df).set_title(\"Éducation du demandeur\") \n",
        "\n",
        "# Property_Area\n",
        "plt.subplot(1, 3, 3)\n",
        "sns.countplot(x = 'Property_Area', data = df).set_title(\"Logement du demandeur\") \n",
        "\n",
        "# On affiche les graphiques\n",
        "plt.show()"
      ],
      "execution_count": null,
      "outputs": [
        {
          "output_type": "display_data",
          "data": {
            "image/png": "[encoded data removed]",
            "text/plain": [
              "<Figure size 1440x360 with 3 Axes>"
            ]
          },
          "metadata": {
            "needs_background": "light"
          }
        }
      ]
    },
    {
      "cell_type": "markdown",
      "metadata": {
        "id": "l4gr80_Bc1rv"
      },
      "source": [
        "#### **3.2.4. Analyse des variables numériques**"
      ]
    },
    {
      "cell_type": "code",
      "metadata": {
        "colab": {
          "base_uri": "https://localhost:8080/"
        },
        "id": "UnYDCcwn_u4d",
        "outputId": "6a99e194-aa12-4780-efe3-91fb131ddd36"
      },
      "source": [
        "# Analyse des variables numériques avec des histogrammes\n",
        "\n",
        "plt.figure(figsize=(20, 10))\n",
        "\n",
        "# ApplicantIncome\n",
        "plt.subplot(2, 2, 1)\n",
        "sns.histplot(x = 'ApplicantIncome', data = df).set_title(\"La distribution des revenues des demandeurs\")\n",
        "\n",
        "# CoapplicantIncome\n",
        "plt.subplot(2, 2, 2)\n",
        "sns.histplot(x = 'CoapplicantIncome', data = df).set_title(\"La distribution des revenues des conjoints des demandeurs\")\n",
        "\n",
        "# LoanAmount\n",
        "plt.subplot(2, 2, 3)\n",
        "sns.histplot(x ='LoanAmount', data = df).set_title(\"La distribution des montants de crédits demandées\")\n",
        "\n",
        "# Loan_Amount_Term\n",
        "plt.subplot(2, 2, 4)\n",
        "sns.histplot(x ='Loan_Amount_Term', data = df).set_title(\"La distribution de la durée des montants de crédits demandées\")\n",
        "\n",
        "# On affiche les graphiques\n",
        "plt.show()"
      ],
      "execution_count": null,
      "outputs": [
        {
          "output_type": "display_data",
          "data": {
            "image/png": "[encoded data removed]",
            "text/plain": [
              "<Figure size 1440x720 with 4 Axes>"
            ]
          },
          "metadata": {
            "needs_background": "light"
          }
        }
      ]
    },
    {
      "cell_type": "code",
      "metadata": {
        "colab": {
          "base_uri": "https://localhost:8080/"
        },
        "id": "KtGaej2GVtOh",
        "outputId": "2f22cd18-4f61-4943-b7f8-5a16043f1034"
      },
      "source": [
        "# Analyse des variables numériques avec des diagramme en boite\n",
        "\n",
        "\n",
        "plt.figure(figsize=(20, 10))\n",
        "\n",
        "# ApplicantIncome\n",
        "plt.subplot(2, 2, 1)\n",
        "sns.boxplot(x = 'ApplicantIncome', data = df).set_title(\"Le diagramme en boite des revenues des demandeurs\")\n",
        "\n",
        "# CoapplicantIncome\n",
        "plt.subplot(2, 2, 2)\n",
        "sns.boxplot(x = 'CoapplicantIncome', data = df).set_title(\"Le diagramme en boite des revenues des conjoints des demandeurs\")\n",
        "\n",
        "# LoanAmount\n",
        "plt.subplot(2, 2, 3)\n",
        "sns.boxplot(x ='LoanAmount', data = df).set_title(\"Le diagramme en boite des montants de crédits demandées\")\n",
        "\n",
        "# Loan_Amount_Term\n",
        "plt.subplot(2, 2, 4)\n",
        "sns.boxplot(x ='Loan_Amount_Term', data = df).set_title(\"Le diagramme en boite de la durée des montants de crédits demandées\")\n",
        "\n",
        "# On affiche les graphiques\n",
        "plt.show()"
      ],
      "execution_count": null,
      "outputs": [
        {
          "output_type": "display_data",
          "data": {
            "image/png": "[encoded data removed]",
            "text/plain": [
              "<Figure size 1440x720 with 4 Axes>"
            ]
          },
          "metadata": {
            "needs_background": "light"
          }
        }
      ]
    },
    {
      "cell_type": "markdown",
      "metadata": {
        "id": "TxjePtnodG8i"
      },
      "source": [
        "#### **3.2.5. Relation entre variables indépendante et la variable cible**"
      ]
    },
    {
      "cell_type": "markdown",
      "metadata": {
        "id": "VBzsALu1dSEd"
      },
      "source": [
        "##### **Variables catégoriques / Variable cible**"
      ]
    },
    {
      "cell_type": "code",
      "metadata": {
        "id": "93NLy6kGJHT9",
        "colab": {
          "base_uri": "https://localhost:8080/"
        },
        "outputId": "00f6f299-6bdf-464c-aa12-8e1091bf23e6"
      },
      "source": [
        "# Note : la relation entre variables catégorique(puisque la variable cible aussi est catégorique) avec crosstab (tableau croisée) \n",
        "# puis on peux le visualiser avec un diagramme à barre empliées (en ajoutant l'option stacked=True) à plot()\n",
        "\n",
        "# Gendre / Loan_Status\n",
        "Gender=pd.crosstab(df['Gender'], df['Loan_Status']) \n",
        "Gender.div(Gender.sum(1).astype(float), axis=0).plot(kind=\"bar\", figsize=(10,5), title=\"La relation entre l'approbation de crédit et le genre du demandeur\") \n",
        "plt.show()\n",
        "\n",
        "# Married / Loan_Status\n",
        "Married=pd.crosstab(df['Married'], df['Loan_Status']) \n",
        "Married.div(Married.sum(1).astype(float), axis=0).plot(kind=\"bar\", figsize=(10,5), title=\"La relation entre l'approbation de crédit et le fait que le demandeur soit marrié(e) ou non\") \n",
        "plt.show()"
      ],
      "execution_count": null,
      "outputs": [
        {
          "output_type": "display_data",
          "data": {
            "image/png": "[encoded data removed]",
            "text/plain": [
              "<Figure size 720x360 with 1 Axes>"
            ]
          },
          "metadata": {
            "needs_background": "light"
          }
        },
        {
          "output_type": "display_data",
          "data": {
            "image/png": "[encoded data removed]",
            "text/plain": [
              "<Figure size 720x360 with 1 Axes>"
            ]
          },
          "metadata": {
            "needs_background": "light"
          }
        }
      ]
    },
    {
      "cell_type": "code",
      "metadata": {
        "id": "-0hllIvVJHQy",
        "colab": {
          "base_uri": "https://localhost:8080/"
        },
        "outputId": "f3a7a071-4d2f-4ac3-ab74-5ca674d4aae1"
      },
      "source": [
        "# Dependents / Loan_Status\n",
        "Dependents=pd.crosstab(df['Dependents'], df['Loan_Status'])\n",
        "Dependents.div(Dependents.sum(1).astype(float), axis=0).plot(kind=\"bar\", figsize=(10,5), title=\"La relation entre l'approbation de crédit et le nombre d'enfants du demandeur de crédit\") \n",
        "plt.show()\n",
        "\n",
        "# Education / Loan_Status\n",
        "Education=pd.crosstab(df['Education'], df['Loan_Status'])\n",
        "Education.div(Education.sum(1).astype(float), axis=0).plot(kind=\"bar\", figsize=(10,5), title=\"La relation entre l'approbation de crédit et l'éducation du demandeur de crédit\") \n",
        "plt.show()\n",
        "\n",
        "# Self_Employed\n",
        "Self_Employed=pd.crosstab(df['Self_Employed'], df['Loan_Status'])\n",
        "Self_Employed.div(Self_Employed.sum(1).astype(float), axis=0).plot(kind=\"bar\", figsize=(10,5), title=\"La relation entre l'approbation de crédit et le fait que le demandeur est un travailleur indépendant ou non\") \n",
        "plt.show()"
      ],
      "execution_count": null,
      "outputs": [
        {
          "output_type": "display_data",
          "data": {
            "image/png": "[encoded data removed]",
            "text/plain": [
              "<Figure size 720x360 with 1 Axes>"
            ]
          },
          "metadata": {
            "needs_background": "light"
          }
        },
        {
          "output_type": "display_data",
          "data": {
            "image/png": "[encoded data removed]",
            "text/plain": [
              "<Figure size 720x360 with 1 Axes>"
            ]
          },
          "metadata": {
            "needs_background": "light"
          }
        },
        {
          "output_type": "display_data",
          "data": {
            "image/png": "[encoded data removed]",
            "text/plain": [
              "<Figure size 720x360 with 1 Axes>"
            ]
          },
          "metadata": {
            "needs_background": "light"
          }
        }
      ]
    },
    {
      "cell_type": "code",
      "metadata": {
        "id": "_PA_cV1QJHN_",
        "colab": {
          "base_uri": "https://localhost:8080/"
        },
        "outputId": "0d079652-c3ac-4144-fd26-58f2b743aa82"
      },
      "source": [
        "# Credit_History / Loan_Status\n",
        "Credit_History=pd.crosstab(df['Credit_History'], df['Loan_Status'])\n",
        "Credit_History.div(Credit_History.sum(1).astype(float), axis=0).plot(kind=\"bar\", stacked=True, figsize=(10,5), title=\"La relation entre l'approbation de crédit et l'historique de crédit du demandeur\") \n",
        "plt.show()\n",
        "\n",
        "# Property_Area / Loan_Status\n",
        "Property_Area=pd.crosstab(df['Property_Area'], df['Loan_Status'])\n",
        "Property_Area.div(Property_Area.sum(1).astype(float), axis=0).plot(kind=\"bar\", stacked=True, figsize=(10,5), title=\"La relation entre l'approbation de crédit et le logement du demandeur de crédit\") \n",
        "plt.show()\n",
        "\n"
      ],
      "execution_count": null,
      "outputs": [
        {
          "output_type": "display_data",
          "data": {
            "image/png": "[encoded data removed]",
            "text/plain": [
              "<Figure size 720x360 with 1 Axes>"
            ]
          },
          "metadata": {
            "needs_background": "light"
          }
        },
        {
          "output_type": "display_data",
          "data": {
            "image/png": "[encoded data removed]",
            "text/plain": [
              "<Figure size 720x360 with 1 Axes>"
            ]
          },
          "metadata": {
            "needs_background": "light"
          }
        }
      ]
    },
    {
      "cell_type": "code",
      "metadata": {
        "id": "NFeCHpmrJHKv"
      },
      "source": [
        ""
      ],
      "execution_count": null,
      "outputs": []
    },
    {
      "cell_type": "markdown",
      "metadata": {
        "id": "nCvRv88O7OoM"
      },
      "source": [
        "## **4. Résumé de l'Analyse Exploratoire des Données**"
      ]
    },
    {
      "cell_type": "markdown",
      "metadata": {
        "id": "z1YYhwy65Rzx"
      },
      "source": [
        "### **Analyse de forme**\n",
        "- **La variable cible :** Loan_Status  \n",
        "\n",
        "- **Lignes et colonnes :** 614 lignes et 13 colonnes \n",
        "\n",
        "- **Les types des variables :** \n",
        "    - **5 numériques :** \n",
        "        - ApplicantIncome\n",
        "        - CoapplicantIncome\n",
        "        - LoanAmount\n",
        "        - Loan_Amount_Term\n",
        "        - Credit_History\n",
        "    - **5 catégorielles nominales** :\n",
        "        - Loan_ID\n",
        "        - Gender\n",
        "        - Married\n",
        "        - Loan_Status\n",
        "        - Self_Employed\n",
        "    - **3 catégorielles ordinales (ont un certain ordre):**\n",
        "        - Dependents\n",
        "        - Education\n",
        "        - Property_Area  \n",
        "\n",
        "- **Les valeurs manquantes :**\n",
        "    - **Total :** 149 valeurs manquantes\n",
        "    - ***Credit_History*** est la variable qui contient le plus de variables manquantes (50)\n",
        "\n",
        "\n",
        "### **Analyse de fond**\n",
        "- **Analyse de la variable cible :** \n",
        "    - **68.73%** des demandes de crédit ont été accordées\n",
        "    - **31.27%** des demandes de crédit ont été refusées \n",
        "\n",
        "- **Analyse des variables catégorielles :** \n",
        "    - La majorité des demandeurs de crédits sont des hommes (plus de 80%)\n",
        "    - La plupart des demandeurs de crédits sont mariés (plus de 65%)\n",
        "    - Seulement 14% des demandeurs de crédits travaillent à leurs propres compte \n",
        "\n",
        "- **Analyse des variables ordinales :** \n",
        "    - La majorité des demandeurs de crédits n'ont pas d'enfants à charge (plus de 57 %)\n",
        "    - Plus de 78 % des demandeurs de crédits sont diplomés\n",
        "    - La zone semi-urbaine est la zone qui contient le plus de demandeur de crédits\n",
        "\n",
        "- **Analyse des variables numériques :** \n",
        "    - Le revenue des demandeurs varie géneralement entre 0 et 10000\n",
        "    - Le montant de crédits demandée se situe beaucoup plus entre 0 et 200\n",
        "    - On remarque que les variables **ApplicantIncome**, **CoapplicantIncome** et **LoanAmount** contient des valeurs aberrantes (outliers) \n",
        "\n",
        "- **Relation entre variables indépendantes et la variable cible :**  \n",
        "- **Variables catégorielles / Variable cible :**\n",
        "        - On remarque qu'il y'a pas une différence (relation) entre l'approbation de crédit par rapport au genre du demandeur\n",
        "        - Le demandeur à beaucoup plus de chance de voir sa demande de crédit accepté si il est marrié(e)\n",
        "        - Le demandes des personnes ayant 2 enfants sont les plus acceptées\n",
        "        - Il y'a pas réelment une relation entre l'approbation de la demande de crédit et le fait qu'un demandeur est un travailleur indépendant ou non\n",
        "        - Les demandes des personnes diplomées sont les plus approuvées\n",
        "        - On remarque que les personnes ayant deja des antécédants de crédits sont plus susceptibles d'obtenir une approbation de leur demande de crédit\n",
        "        - Les demandes des personnes vivant en zone rurale sont les plus approuvées \n",
        "\n",
        "### **Définition du DataFrame** \n",
        "\n",
        "\n",
        "| Nom de la colonne       | Définition                            |\n",
        "| ----------------------- |:-------------------------------------:|\n",
        "| **`Loan_ID`**           | Un identifiant unique du demandeur    |\n",
        "| **`Gender`**            | Le genre (Male ou Female)             |\n",
        "| **`Married`**           | Mariage (Yes / No)                    |\n",
        "| **`Dependents`**        | Nombre d’enfants du demandeur         |\n",
        "| **`Education`**         |  Éducation du demandeur (Graduate / Not Graduate)|\n",
        "| **`Self_Employed`**     | Le demandeur est-il un travailleur indépendant (Yes / No)|\n",
        "| **`ApplicantIncome`**   | Le revenue du demandeur                      |\n",
        "| **`CoapplicantIncome`** | Le revenue du conjoint du demandeur          |\n",
        "| **`LoanAmount`**        | Le montant du crédit demandé (en milliers)   |\n",
        "| **`Loan_Amount_Term`**  | La durée de remboursement du crédit (en mois)|\n",
        "| **`Credit_History`**    | Historique de crédit du demandeur            |\n",
        "| **`Property_Area`**     | Logement de demandeur                        |\n",
        "| **`Loan_Status`**       | État de la demande (Accordé / Non Accordé)   |\n",
        "\n"
      ]
    },
    {
      "cell_type": "markdown",
      "metadata": {
        "id": "1drMpnkK7KMu"
      },
      "source": [
        "## **5. Prétraitement des données**"
      ]
    },
    {
      "cell_type": "markdown",
      "metadata": {
        "id": "Wvz79hoJ5e_3"
      },
      "source": [
        "Dans un premier temps, on va créer une copie de notre dataset pour avoir une nouvelle instance sur laquelle on pourra effectuer notre prétraitement sans toucher l'instance qu'on a utiliser pour l'analyse exploratoire des données.\n",
        "\n",
        "Pour cette étape nous allons réaliser deux taches :  \n",
        "- Traitement des valeurs manquanes  \n",
        "- Encodage des variables catégorielles\n",
        "\n",
        "\n",
        "**1. Traitement des valeurs manquantes :**  \n",
        "- Les variables catégorielles : on utilise le mode (valeur la plus fréquante)  \n",
        "\n",
        "| Variable      | Technique     |\n",
        "| ------------- |:-------------:|\n",
        "| Married       | Mode          |\n",
        "| Gender        | Mode          |\n",
        "| Dependents    | Mode          |\n",
        "| Self_Employed | Mode          |\n",
        "\n",
        "-  Les variables numériques : on utilise la médiane ou la moyenne (ou le mode si c'est deux valeur)\n",
        "\n",
        "| Variable        | Technique          |\n",
        "| --------------- |:------------------:|\n",
        "| LoanAmount      | Médiane            |\n",
        "| Gender          | Médiane            |\n",
        "| Credit_History  | Mode               |\n",
        "\n",
        "\n",
        "**2. Traitement des valeurs aberrantes :**\n",
        "\n",
        "- Pour les valeurs aberrantes inférieurs on peux les remplaçer par Q1 - 1.5 * IQR \n",
        "\n",
        "- Pour les valeurs aberrantes supérieures on peux les remplaçer par Q3 + 1.5 * IQR \n",
        "\n",
        "**3. Encodage des variables catégorielles :**\n",
        "\n",
        "Note : On peux le faire manuellement avec la fonction map de pandas ou on peux utiliser les deux libraries LabelEncoding ou OneHotEncoding de sklearn \n",
        "\n",
        "- Variables catégorique ordinales (suivent un certain ordre) avec `LabelEncoding`\n",
        "\n",
        "- Variables catégorique nominales manuellement avec la fonction map\n",
        "\n"
      ]
    },
    {
      "cell_type": "markdown",
      "metadata": {
        "id": "TDIhF_oVAIbI"
      },
      "source": [
        "### **5.1. Création d'une copie du dataset**"
      ]
    },
    {
      "cell_type": "code",
      "metadata": {
        "id": "8Th1iohfAR3u",
        "colab": {
          "base_uri": "https://localhost:8080/"
        },
        "outputId": "bbee54ff-989d-47ab-9211-cb71b4d1b87c"
      },
      "source": [
        "df1 = df.copy()\n",
        "df1.head()"
      ],
      "execution_count": null,
      "outputs": [
        {
          "output_type": "execute_result",
          "data": {
            "text/html": [
              "<div>\n",
              "<style scoped>\n",
              "    .dataframe tbody tr th:only-of-type {\n",
              "        vertical-align: middle;\n",
              "    }\n",
              "\n",
              "    .dataframe tbody tr th {\n",
              "        vertical-align: top;\n",
              "    }\n",
              "\n",
              "    .dataframe thead th {\n",
              "        text-align: right;\n",
              "    }\n",
              "</style>\n",
              "<table border=\"1\" class=\"dataframe\">\n",
              "  <thead>\n",
              "    <tr style=\"text-align: right;\">\n",
              "      <th></th>\n",
              "      <th>Loan_ID</th>\n",
              "      <th>Gender</th>\n",
              "      <th>Married</th>\n",
              "      <th>Dependents</th>\n",
              "      <th>Education</th>\n",
              "      <th>Self_Employed</th>\n",
              "      <th>ApplicantIncome</th>\n",
              "      <th>CoapplicantIncome</th>\n",
              "      <th>LoanAmount</th>\n",
              "      <th>Loan_Amount_Term</th>\n",
              "      <th>Credit_History</th>\n",
              "      <th>Property_Area</th>\n",
              "      <th>Loan_Status</th>\n",
              "    </tr>\n",
              "  </thead>\n",
              "  <tbody>\n",
              "    <tr>\n",
              "      <th>0</th>\n",
              "      <td>LP001002</td>\n",
              "      <td>Male</td>\n",
              "      <td>No</td>\n",
              "      <td>0</td>\n",
              "      <td>Graduate</td>\n",
              "      <td>No</td>\n",
              "      <td>5849</td>\n",
              "      <td>0.0</td>\n",
              "      <td>NaN</td>\n",
              "      <td>360.0</td>\n",
              "      <td>1.0</td>\n",
              "      <td>Urban</td>\n",
              "      <td>Y</td>\n",
              "    </tr>\n",
              "    <tr>\n",
              "      <th>1</th>\n",
              "      <td>LP001003</td>\n",
              "      <td>Male</td>\n",
              "      <td>Yes</td>\n",
              "      <td>1</td>\n",
              "      <td>Graduate</td>\n",
              "      <td>No</td>\n",
              "      <td>4583</td>\n",
              "      <td>1508.0</td>\n",
              "      <td>128.0</td>\n",
              "      <td>360.0</td>\n",
              "      <td>1.0</td>\n",
              "      <td>Rural</td>\n",
              "      <td>N</td>\n",
              "    </tr>\n",
              "    <tr>\n",
              "      <th>2</th>\n",
              "      <td>LP001005</td>\n",
              "      <td>Male</td>\n",
              "      <td>Yes</td>\n",
              "      <td>0</td>\n",
              "      <td>Graduate</td>\n",
              "      <td>Yes</td>\n",
              "      <td>3000</td>\n",
              "      <td>0.0</td>\n",
              "      <td>66.0</td>\n",
              "      <td>360.0</td>\n",
              "      <td>1.0</td>\n",
              "      <td>Urban</td>\n",
              "      <td>Y</td>\n",
              "    </tr>\n",
              "    <tr>\n",
              "      <th>3</th>\n",
              "      <td>LP001006</td>\n",
              "      <td>Male</td>\n",
              "      <td>Yes</td>\n",
              "      <td>0</td>\n",
              "      <td>Not Graduate</td>\n",
              "      <td>No</td>\n",
              "      <td>2583</td>\n",
              "      <td>2358.0</td>\n",
              "      <td>120.0</td>\n",
              "      <td>360.0</td>\n",
              "      <td>1.0</td>\n",
              "      <td>Urban</td>\n",
              "      <td>Y</td>\n",
              "    </tr>\n",
              "    <tr>\n",
              "      <th>4</th>\n",
              "      <td>LP001008</td>\n",
              "      <td>Male</td>\n",
              "      <td>No</td>\n",
              "      <td>0</td>\n",
              "      <td>Graduate</td>\n",
              "      <td>No</td>\n",
              "      <td>6000</td>\n",
              "      <td>0.0</td>\n",
              "      <td>141.0</td>\n",
              "      <td>360.0</td>\n",
              "      <td>1.0</td>\n",
              "      <td>Urban</td>\n",
              "      <td>Y</td>\n",
              "    </tr>\n",
              "  </tbody>\n",
              "</table>\n",
              "</div>"
            ],
            "text/plain": [
              "    Loan_ID Gender Married  ... Credit_History Property_Area Loan_Status\n",
              "0  LP001002   Male      No  ...            1.0         Urban           Y\n",
              "1  LP001003   Male     Yes  ...            1.0         Rural           N\n",
              "2  LP001005   Male     Yes  ...            1.0         Urban           Y\n",
              "3  LP001006   Male     Yes  ...            1.0         Urban           Y\n",
              "4  LP001008   Male      No  ...            1.0         Urban           Y\n",
              "\n",
              "[5 rows x 13 columns]"
            ]
          },
          "metadata": {},
          "execution_count": 19
        }
      ]
    },
    {
      "cell_type": "code",
      "metadata": {
        "id": "5Ojg4Y1Lrrx6",
        "colab": {
          "base_uri": "https://localhost:8080/"
        },
        "outputId": "0a3a0338-3fd6-4539-d13d-f8afffb47a12"
      },
      "source": [
        "# Supprimer Loan_ID du dataset car elle ne sert à rien\n",
        "df1.drop(['Loan_ID'], axis=1, inplace=True)\n",
        "df1.head()"
      ],
      "execution_count": null,
      "outputs": [
        {
          "output_type": "execute_result",
          "data": {
            "text/html": [
              "<div>\n",
              "<style scoped>\n",
              "    .dataframe tbody tr th:only-of-type {\n",
              "        vertical-align: middle;\n",
              "    }\n",
              "\n",
              "    .dataframe tbody tr th {\n",
              "        vertical-align: top;\n",
              "    }\n",
              "\n",
              "    .dataframe thead th {\n",
              "        text-align: right;\n",
              "    }\n",
              "</style>\n",
              "<table border=\"1\" class=\"dataframe\">\n",
              "  <thead>\n",
              "    <tr style=\"text-align: right;\">\n",
              "      <th></th>\n",
              "      <th>Gender</th>\n",
              "      <th>Married</th>\n",
              "      <th>Dependents</th>\n",
              "      <th>Education</th>\n",
              "      <th>Self_Employed</th>\n",
              "      <th>ApplicantIncome</th>\n",
              "      <th>CoapplicantIncome</th>\n",
              "      <th>LoanAmount</th>\n",
              "      <th>Loan_Amount_Term</th>\n",
              "      <th>Credit_History</th>\n",
              "      <th>Property_Area</th>\n",
              "      <th>Loan_Status</th>\n",
              "    </tr>\n",
              "  </thead>\n",
              "  <tbody>\n",
              "    <tr>\n",
              "      <th>0</th>\n",
              "      <td>Male</td>\n",
              "      <td>No</td>\n",
              "      <td>0</td>\n",
              "      <td>Graduate</td>\n",
              "      <td>No</td>\n",
              "      <td>5849</td>\n",
              "      <td>0.0</td>\n",
              "      <td>NaN</td>\n",
              "      <td>360.0</td>\n",
              "      <td>1.0</td>\n",
              "      <td>Urban</td>\n",
              "      <td>Y</td>\n",
              "    </tr>\n",
              "    <tr>\n",
              "      <th>1</th>\n",
              "      <td>Male</td>\n",
              "      <td>Yes</td>\n",
              "      <td>1</td>\n",
              "      <td>Graduate</td>\n",
              "      <td>No</td>\n",
              "      <td>4583</td>\n",
              "      <td>1508.0</td>\n",
              "      <td>128.0</td>\n",
              "      <td>360.0</td>\n",
              "      <td>1.0</td>\n",
              "      <td>Rural</td>\n",
              "      <td>N</td>\n",
              "    </tr>\n",
              "    <tr>\n",
              "      <th>2</th>\n",
              "      <td>Male</td>\n",
              "      <td>Yes</td>\n",
              "      <td>0</td>\n",
              "      <td>Graduate</td>\n",
              "      <td>Yes</td>\n",
              "      <td>3000</td>\n",
              "      <td>0.0</td>\n",
              "      <td>66.0</td>\n",
              "      <td>360.0</td>\n",
              "      <td>1.0</td>\n",
              "      <td>Urban</td>\n",
              "      <td>Y</td>\n",
              "    </tr>\n",
              "    <tr>\n",
              "      <th>3</th>\n",
              "      <td>Male</td>\n",
              "      <td>Yes</td>\n",
              "      <td>0</td>\n",
              "      <td>Not Graduate</td>\n",
              "      <td>No</td>\n",
              "      <td>2583</td>\n",
              "      <td>2358.0</td>\n",
              "      <td>120.0</td>\n",
              "      <td>360.0</td>\n",
              "      <td>1.0</td>\n",
              "      <td>Urban</td>\n",
              "      <td>Y</td>\n",
              "    </tr>\n",
              "    <tr>\n",
              "      <th>4</th>\n",
              "      <td>Male</td>\n",
              "      <td>No</td>\n",
              "      <td>0</td>\n",
              "      <td>Graduate</td>\n",
              "      <td>No</td>\n",
              "      <td>6000</td>\n",
              "      <td>0.0</td>\n",
              "      <td>141.0</td>\n",
              "      <td>360.0</td>\n",
              "      <td>1.0</td>\n",
              "      <td>Urban</td>\n",
              "      <td>Y</td>\n",
              "    </tr>\n",
              "  </tbody>\n",
              "</table>\n",
              "</div>"
            ],
            "text/plain": [
              "  Gender Married Dependents  ... Credit_History Property_Area  Loan_Status\n",
              "0   Male      No          0  ...            1.0         Urban            Y\n",
              "1   Male     Yes          1  ...            1.0         Rural            N\n",
              "2   Male     Yes          0  ...            1.0         Urban            Y\n",
              "3   Male     Yes          0  ...            1.0         Urban            Y\n",
              "4   Male      No          0  ...            1.0         Urban            Y\n",
              "\n",
              "[5 rows x 12 columns]"
            ]
          },
          "metadata": {},
          "execution_count": 20
        }
      ]
    },
    {
      "cell_type": "markdown",
      "metadata": {
        "id": "jdvkX_ouAYZ5"
      },
      "source": [
        "### **5.2. Traitement des valeurs manquantes**"
      ]
    },
    {
      "cell_type": "code",
      "metadata": {
        "id": "a3JOYNJfAhv3",
        "colab": {
          "base_uri": "https://localhost:8080/"
        },
        "outputId": "a21c747f-4897-4f1b-9bcc-0c4bd9ff056c"
      },
      "source": [
        "# Voir les valeurs manquantes\n",
        "df1.isna().sum().sort_values(ascending=True)"
      ],
      "execution_count": null,
      "outputs": [
        {
          "output_type": "execute_result",
          "data": {
            "text/plain": [
              "Education             0\n",
              "ApplicantIncome       0\n",
              "CoapplicantIncome     0\n",
              "Property_Area         0\n",
              "Loan_Status           0\n",
              "Married               3\n",
              "Gender               13\n",
              "Loan_Amount_Term     14\n",
              "Dependents           15\n",
              "LoanAmount           22\n",
              "Self_Employed        32\n",
              "Credit_History       50\n",
              "dtype: int64"
            ]
          },
          "metadata": {},
          "execution_count": 21
        }
      ]
    },
    {
      "cell_type": "code",
      "metadata": {
        "id": "D-kEEf36CO9n",
        "colab": {
          "base_uri": "https://localhost:8080/"
        },
        "outputId": "8ff94c6b-2490-49c7-d5ec-8d6ca63c8e93"
      },
      "source": [
        "df1.dtypes"
      ],
      "execution_count": null,
      "outputs": [
        {
          "output_type": "execute_result",
          "data": {
            "text/plain": [
              "Gender                object\n",
              "Married               object\n",
              "Dependents            object\n",
              "Education             object\n",
              "Self_Employed         object\n",
              "ApplicantIncome        int64\n",
              "CoapplicantIncome    float64\n",
              "LoanAmount           float64\n",
              "Loan_Amount_Term     float64\n",
              "Credit_History       float64\n",
              "Property_Area         object\n",
              "Loan_Status           object\n",
              "dtype: object"
            ]
          },
          "metadata": {},
          "execution_count": 22
        }
      ]
    },
    {
      "cell_type": "markdown",
      "metadata": {
        "id": "TjSt3rX3AvPF"
      },
      "source": [
        "#### **5.2.1. Traitement des valeurs manquantes catégoriques**"
      ]
    },
    {
      "cell_type": "code",
      "metadata": {
        "id": "26VWfAbRBysU",
        "colab": {
          "base_uri": "https://localhost:8080/"
        },
        "outputId": "c87e4aca-e62e-4e7d-cdd6-89112fd7fd48"
      },
      "source": [
        "# Liste des variables catégoriques comportant des valeurs manquantes: Married, Gender, dependents, Self_Employed\n",
        "colonnes_categoriques = ['Married', 'Gender', 'Dependents', 'Self_Employed']\n",
        "df1[colonnes_categoriques]"
      ],
      "execution_count": null,
      "outputs": [
        {
          "output_type": "execute_result",
          "data": {
            "text/html": [
              "<div>\n",
              "<style scoped>\n",
              "    .dataframe tbody tr th:only-of-type {\n",
              "        vertical-align: middle;\n",
              "    }\n",
              "\n",
              "    .dataframe tbody tr th {\n",
              "        vertical-align: top;\n",
              "    }\n",
              "\n",
              "    .dataframe thead th {\n",
              "        text-align: right;\n",
              "    }\n",
              "</style>\n",
              "<table border=\"1\" class=\"dataframe\">\n",
              "  <thead>\n",
              "    <tr style=\"text-align: right;\">\n",
              "      <th></th>\n",
              "      <th>Married</th>\n",
              "      <th>Gender</th>\n",
              "      <th>Dependents</th>\n",
              "      <th>Self_Employed</th>\n",
              "    </tr>\n",
              "  </thead>\n",
              "  <tbody>\n",
              "    <tr>\n",
              "      <th>0</th>\n",
              "      <td>No</td>\n",
              "      <td>Male</td>\n",
              "      <td>0</td>\n",
              "      <td>No</td>\n",
              "    </tr>\n",
              "    <tr>\n",
              "      <th>1</th>\n",
              "      <td>Yes</td>\n",
              "      <td>Male</td>\n",
              "      <td>1</td>\n",
              "      <td>No</td>\n",
              "    </tr>\n",
              "    <tr>\n",
              "      <th>2</th>\n",
              "      <td>Yes</td>\n",
              "      <td>Male</td>\n",
              "      <td>0</td>\n",
              "      <td>Yes</td>\n",
              "    </tr>\n",
              "    <tr>\n",
              "      <th>3</th>\n",
              "      <td>Yes</td>\n",
              "      <td>Male</td>\n",
              "      <td>0</td>\n",
              "      <td>No</td>\n",
              "    </tr>\n",
              "    <tr>\n",
              "      <th>4</th>\n",
              "      <td>No</td>\n",
              "      <td>Male</td>\n",
              "      <td>0</td>\n",
              "      <td>No</td>\n",
              "    </tr>\n",
              "    <tr>\n",
              "      <th>...</th>\n",
              "      <td>...</td>\n",
              "      <td>...</td>\n",
              "      <td>...</td>\n",
              "      <td>...</td>\n",
              "    </tr>\n",
              "    <tr>\n",
              "      <th>609</th>\n",
              "      <td>No</td>\n",
              "      <td>Female</td>\n",
              "      <td>0</td>\n",
              "      <td>No</td>\n",
              "    </tr>\n",
              "    <tr>\n",
              "      <th>610</th>\n",
              "      <td>Yes</td>\n",
              "      <td>Male</td>\n",
              "      <td>3+</td>\n",
              "      <td>No</td>\n",
              "    </tr>\n",
              "    <tr>\n",
              "      <th>611</th>\n",
              "      <td>Yes</td>\n",
              "      <td>Male</td>\n",
              "      <td>1</td>\n",
              "      <td>No</td>\n",
              "    </tr>\n",
              "    <tr>\n",
              "      <th>612</th>\n",
              "      <td>Yes</td>\n",
              "      <td>Male</td>\n",
              "      <td>2</td>\n",
              "      <td>No</td>\n",
              "    </tr>\n",
              "    <tr>\n",
              "      <th>613</th>\n",
              "      <td>No</td>\n",
              "      <td>Female</td>\n",
              "      <td>0</td>\n",
              "      <td>Yes</td>\n",
              "    </tr>\n",
              "  </tbody>\n",
              "</table>\n",
              "<p>614 rows × 4 columns</p>\n",
              "</div>"
            ],
            "text/plain": [
              "    Married  Gender Dependents Self_Employed\n",
              "0        No    Male          0            No\n",
              "1       Yes    Male          1            No\n",
              "2       Yes    Male          0           Yes\n",
              "3       Yes    Male          0            No\n",
              "4        No    Male          0            No\n",
              "..      ...     ...        ...           ...\n",
              "609      No  Female          0            No\n",
              "610     Yes    Male         3+            No\n",
              "611     Yes    Male          1            No\n",
              "612     Yes    Male          2            No\n",
              "613      No  Female          0           Yes\n",
              "\n",
              "[614 rows x 4 columns]"
            ]
          },
          "metadata": {},
          "execution_count": 23
        }
      ]
    },
    {
      "cell_type": "markdown",
      "metadata": {
        "id": "q0aVt9yPEalM"
      },
      "source": [
        "##### **5.2.1.1. Fonction qui retourne le mode de chaque variable**"
      ]
    },
    {
      "cell_type": "code",
      "metadata": {
        "id": "_VYdRah1Erdg",
        "colab": {
          "base_uri": "https://localhost:8080/"
        },
        "outputId": "097f8813-4e4d-461c-ad64-df2905d12100"
      },
      "source": [
        "def col_mode(dataset):\n",
        "    \"\"\"Ceci est une fonction qui permet de calculer et d'afficher le mode de chaque variable contenu dans le dataset passé en argument à cette fonction\"\"\"\n",
        "\n",
        "    for colonne in dataset:\n",
        "        mode_colonne = dataset[colonne].mode()[0]\n",
        "        print(f\"Le mode de la variable '{colonne}' est : {mode_colonne} \")\n",
        "\n",
        "# On applique cette fonction à notre dataset contenant les variables catégoriques\n",
        "col_mode(df1[colonnes_categoriques])"
      ],
      "execution_count": null,
      "outputs": [
        {
          "output_type": "stream",
          "name": "stdout",
          "text": [
            "Le mode de la variable 'Married' est : Yes \n",
            "Le mode de la variable 'Gender' est : Male \n",
            "Le mode de la variable 'Dependents' est : 0 \n",
            "Le mode de la variable 'Self_Employed' est : No \n"
          ]
        }
      ]
    },
    {
      "cell_type": "markdown",
      "metadata": {
        "id": "vJNTksuZGMeb"
      },
      "source": [
        "##### **5.2.1.2. Remplacer les valeurs manquantes des variables catégoriques par le mode** "
      ]
    },
    {
      "cell_type": "code",
      "metadata": {
        "id": "fePDvjKyGLf2"
      },
      "source": [
        "df1[\"Married\"].fillna(df1[\"Married\"].mode()[0], inplace=True)\n",
        "df1[\"Gender\"].fillna(df1[\"Gender\"].mode()[0], inplace=True)\n",
        "df1[\"Dependents\"].fillna(df1[\"Dependents\"].mode()[0], inplace=True)\n",
        "df1[\"Self_Employed\"].fillna(df1[\"Self_Employed\"].mode()[0], inplace=True)"
      ],
      "execution_count": null,
      "outputs": []
    },
    {
      "cell_type": "code",
      "metadata": {
        "id": "P6OWKl34Ifpd",
        "colab": {
          "base_uri": "https://localhost:8080/"
        },
        "outputId": "53e83485-7d9a-49f1-880b-9f684df87082"
      },
      "source": [
        "df1.isna().sum()"
      ],
      "execution_count": null,
      "outputs": [
        {
          "output_type": "execute_result",
          "data": {
            "text/plain": [
              "Gender                0\n",
              "Married               0\n",
              "Dependents            0\n",
              "Education             0\n",
              "Self_Employed         0\n",
              "ApplicantIncome       0\n",
              "CoapplicantIncome     0\n",
              "LoanAmount           22\n",
              "Loan_Amount_Term     14\n",
              "Credit_History       50\n",
              "Property_Area         0\n",
              "Loan_Status           0\n",
              "dtype: int64"
            ]
          },
          "metadata": {},
          "execution_count": 26
        }
      ]
    },
    {
      "cell_type": "markdown",
      "metadata": {
        "id": "hIBY94FeJynT"
      },
      "source": [
        "#### **5.2.2. Traitement des variables manquante numérique**"
      ]
    },
    {
      "cell_type": "code",
      "metadata": {
        "id": "6AtEXBdSKCoI",
        "colab": {
          "base_uri": "https://localhost:8080/"
        },
        "outputId": "e0064a8c-3e68-4c9a-c795-cb6ba5c71b61"
      },
      "source": [
        "# Liste de variables numériques qui comporte des valeurs manquantes: LoanAmount, Loan_Amount_Term, Credit_History\n",
        "colonnes_numeriques = ['LoanAmount', 'Loan_Amount_Term', 'Credit_History']\n",
        "df1[colonnes_numeriques].head()"
      ],
      "execution_count": null,
      "outputs": [
        {
          "output_type": "execute_result",
          "data": {
            "text/html": [
              "<div>\n",
              "<style scoped>\n",
              "    .dataframe tbody tr th:only-of-type {\n",
              "        vertical-align: middle;\n",
              "    }\n",
              "\n",
              "    .dataframe tbody tr th {\n",
              "        vertical-align: top;\n",
              "    }\n",
              "\n",
              "    .dataframe thead th {\n",
              "        text-align: right;\n",
              "    }\n",
              "</style>\n",
              "<table border=\"1\" class=\"dataframe\">\n",
              "  <thead>\n",
              "    <tr style=\"text-align: right;\">\n",
              "      <th></th>\n",
              "      <th>LoanAmount</th>\n",
              "      <th>Loan_Amount_Term</th>\n",
              "      <th>Credit_History</th>\n",
              "    </tr>\n",
              "  </thead>\n",
              "  <tbody>\n",
              "    <tr>\n",
              "      <th>0</th>\n",
              "      <td>NaN</td>\n",
              "      <td>360.0</td>\n",
              "      <td>1.0</td>\n",
              "    </tr>\n",
              "    <tr>\n",
              "      <th>1</th>\n",
              "      <td>128.0</td>\n",
              "      <td>360.0</td>\n",
              "      <td>1.0</td>\n",
              "    </tr>\n",
              "    <tr>\n",
              "      <th>2</th>\n",
              "      <td>66.0</td>\n",
              "      <td>360.0</td>\n",
              "      <td>1.0</td>\n",
              "    </tr>\n",
              "    <tr>\n",
              "      <th>3</th>\n",
              "      <td>120.0</td>\n",
              "      <td>360.0</td>\n",
              "      <td>1.0</td>\n",
              "    </tr>\n",
              "    <tr>\n",
              "      <th>4</th>\n",
              "      <td>141.0</td>\n",
              "      <td>360.0</td>\n",
              "      <td>1.0</td>\n",
              "    </tr>\n",
              "  </tbody>\n",
              "</table>\n",
              "</div>"
            ],
            "text/plain": [
              "   LoanAmount  Loan_Amount_Term  Credit_History\n",
              "0         NaN             360.0             1.0\n",
              "1       128.0             360.0             1.0\n",
              "2        66.0             360.0             1.0\n",
              "3       120.0             360.0             1.0\n",
              "4       141.0             360.0             1.0"
            ]
          },
          "metadata": {},
          "execution_count": 27
        }
      ]
    },
    {
      "cell_type": "markdown",
      "metadata": {
        "id": "W27BLjfoKCRC"
      },
      "source": [
        "##### **5.2.2.1. Fonction qui retourne la médiane de chaque variable d'un dataset**\n",
        "\n"
      ]
    },
    {
      "cell_type": "code",
      "metadata": {
        "id": "sbdRHLQxdpaS",
        "colab": {
          "base_uri": "https://localhost:8080/"
        },
        "outputId": "4b0ffe4a-ce94-4903-c2e4-7dd2876606f4"
      },
      "source": [
        "def mediane_variable(dataset):\n",
        "    \"\"\"Cette fonction prend en argument un tableau de données et retourne la médiane de chaque variable de ce tableau de données\"\"\"\n",
        "\n",
        "    for colonne in dataset:\n",
        "        mediane_colonne = dataset[colonne].median()\n",
        "        print(f\"La médiane de la colonne '{colonne}' est : {mediane_colonne}\")\n",
        "\n",
        "# On applique cette fonction à notre dataset contenant les variables numériques\n",
        "mediane_variable(df1[colonnes_numeriques])"
      ],
      "execution_count": null,
      "outputs": [
        {
          "output_type": "stream",
          "name": "stdout",
          "text": [
            "La médiane de la colonne 'LoanAmount' est : 128.0\n",
            "La médiane de la colonne 'Loan_Amount_Term' est : 360.0\n",
            "La médiane de la colonne 'Credit_History' est : 1.0\n"
          ]
        }
      ]
    },
    {
      "cell_type": "markdown",
      "metadata": {
        "id": "kg3_S2_Ce68x"
      },
      "source": [
        "##### **5.2.2.2. Fonction qui retourne la moyenne de chaque variable d'un dataset**\n",
        "\n"
      ]
    },
    {
      "cell_type": "code",
      "metadata": {
        "id": "-M5glXOYe68y",
        "colab": {
          "base_uri": "https://localhost:8080/"
        },
        "outputId": "96307c66-83dc-45f4-97d3-ba5e43a1eb28"
      },
      "source": [
        "def moyenne_variable(dataset):\n",
        "    \"\"\"Cette fonction prend en argument un tableau de données et retourne la moyenne de chaque variable de ce tableau de données\"\"\"\n",
        "\n",
        "    for colonne in dataset:\n",
        "        moyenne_colonne = dataset[colonne].mean()\n",
        "        print(f\"La moyenne de la colonne '{colonne}' est : {moyenne_colonne}\")\n",
        "\n",
        "# On applique cette fonction à notre dataset contenant les variables numériques\n",
        "moyenne_variable(df1[colonnes_numeriques])"
      ],
      "execution_count": null,
      "outputs": [
        {
          "output_type": "stream",
          "name": "stdout",
          "text": [
            "La moyenne de la colonne 'LoanAmount' est : 146.41216216216216\n",
            "La moyenne de la colonne 'Loan_Amount_Term' est : 342.0\n",
            "La moyenne de la colonne 'Credit_History' est : 0.8421985815602837\n"
          ]
        }
      ]
    },
    {
      "cell_type": "markdown",
      "metadata": {
        "id": "Ukiz5xOhfx_r"
      },
      "source": [
        "##### **5.2.2.3. Remplaçer les valeurs numériques manquantes**\n",
        "\n"
      ]
    },
    {
      "cell_type": "markdown",
      "metadata": {
        "id": "vpzzryqvgQRa"
      },
      "source": [
        "\n",
        "LoanAmount --> Médiane  \n",
        "\n",
        "Loan_Amount_Term --> Médiane  \n",
        "\n",
        "Credit_History --> Mode (Car y'a seulement deux valeurs)"
      ]
    },
    {
      "cell_type": "code",
      "metadata": {
        "id": "WpV3ZWB7gRbj"
      },
      "source": [
        "df1['LoanAmount'].fillna(df1['LoanAmount'].median(), inplace=True)\n",
        "df1['Loan_Amount_Term'].fillna(df1['Loan_Amount_Term'].median(), inplace=True)\n",
        "df1['Credit_History'].fillna(df1['Credit_History'].mode()[0], inplace=True)"
      ],
      "execution_count": null,
      "outputs": []
    },
    {
      "cell_type": "code",
      "metadata": {
        "id": "obCzHmnsgwTj",
        "colab": {
          "base_uri": "https://localhost:8080/"
        },
        "outputId": "4f6c3695-5ce7-4c3f-bcc5-0b0c04d58ef2"
      },
      "source": [
        "# Compter les valeurs manquante dans df1\n",
        "df1.isna().sum()"
      ],
      "execution_count": null,
      "outputs": [
        {
          "output_type": "execute_result",
          "data": {
            "text/plain": [
              "Gender               0\n",
              "Married              0\n",
              "Dependents           0\n",
              "Education            0\n",
              "Self_Employed        0\n",
              "ApplicantIncome      0\n",
              "CoapplicantIncome    0\n",
              "LoanAmount           0\n",
              "Loan_Amount_Term     0\n",
              "Credit_History       0\n",
              "Property_Area        0\n",
              "Loan_Status          0\n",
              "dtype: int64"
            ]
          },
          "metadata": {},
          "execution_count": 31
        }
      ]
    },
    {
      "cell_type": "markdown",
      "metadata": {
        "id": "oVpoRjgFbG1a"
      },
      "source": [
        "### **5.3. Traitement des valeurs aberrantes**"
      ]
    },
    {
      "cell_type": "markdown",
      "metadata": {
        "id": "Bp5Tc-sxbMpP"
      },
      "source": [
        "D’une façon générale, les valeurs aberrantes sont des valeurs qui s’écartent grandement des autres valeurs d’une série statistique.\n",
        "\n",
        "Ce ne sont pas forcément des valeurs incorrectes mais des valeurs qui ne sont pas représentatives de l'ensemble de données."
      ]
    },
    {
      "cell_type": "markdown",
      "metadata": {
        "id": "4j8LqYxWgrC4"
      },
      "source": [
        "#### **5.3.1. Fonction qui permet de trouver les valeurs aberrantes**"
      ]
    },
    {
      "cell_type": "code",
      "metadata": {
        "id": "Rbrc1D1tgn2_"
      },
      "source": [
        "def finding_outliers(data, variable_name):\n",
        "    \"\"\"\n",
        "    Fonction qui retourne un dataframe des valeurs aberrantes\n",
        "\n",
        "    data: un dataframe\n",
        "    variable_name: le nom d'une variable contenue dans data\n",
        "\n",
        "    Q1: le premier quartile   (25% des données)\n",
        "    Q3: le troisième quartile (75% des données)\n",
        "    IQR: écart interquartile (Q3 - Q1)\n",
        "    \"\"\"\n",
        "\n",
        "    # Calcul de Q1, Q3 et IQR\n",
        "    Q1 = data[variable_name].quantile(0.25)\n",
        "    Q3 = data[variable_name].quantile(0.75)\n",
        "    IQR = Q3 - Q1\n",
        "    \n",
        "    # Calcul de lower et upper\n",
        "    lower = Q1 - 1.5 * IQR\n",
        "    upper = Q3 + 1.5 * IQR\n",
        "    \n",
        "    # Dataframe des valeurs aberrantes\n",
        "    return data[(data[variable_name] < lower) | (data[variable_name] > upper)]"
      ],
      "execution_count": null,
      "outputs": []
    },
    {
      "cell_type": "markdown",
      "metadata": {
        "id": "PSkaVqXakOMW"
      },
      "source": [
        "#### **5.3.2. Fonction qui permet de remplaçer les valeurs aberrantes**"
      ]
    },
    {
      "cell_type": "code",
      "metadata": {
        "id": "gHTmj-ZXhhIH"
      },
      "source": [
        "# Valeurs aberrantes inférieures --> Q1 - 1.5 * IQR\n",
        "# Valeurs aberrantes supérieurs  --> Q3 + 1.5 * IQR\n",
        "\n",
        "def replace_outliers(data, variable_name):\n",
        "    \"\"\"\n",
        "    Fonction qui permet de remplacer les valeurs aberrantes d'une variable\n",
        "\n",
        "    data = un dataframe\n",
        "    variable_name = une variable contenus dans data \n",
        "\n",
        "    Q1: le premier quartile   (25% des données)\n",
        "    Q3: le troisième quartile (75% des données)\n",
        "    IQR: écart interquartile (Q3 - Q1)\n",
        "    \"\"\"\n",
        "    \n",
        "    # Calcul de Q1, Q3 et IQR\n",
        "    Q1 = data[variable_name].quantile(0.25)\n",
        "    Q3 = data[variable_name].quantile(0.75)\n",
        "    IQR = Q3 - Q1\n",
        "    \n",
        "    # Calcul de lower et upper\n",
        "    lower = Q1 - 1.5 * IQR\n",
        "    upper = Q3 + 1.5 * IQR\n",
        "\n",
        "    # Remplacer les valeurs aberrantes supérieurs\n",
        "    data.loc[(data[variable_name] > upper), variable_name] = upper \n",
        "\n",
        "    # Remplacer les valeurs aberrantes inférieurs\n",
        "    data.loc[(data[variable_name] < lower), variable_name] = lower \n"
      ],
      "execution_count": null,
      "outputs": []
    },
    {
      "cell_type": "markdown",
      "metadata": {
        "id": "fE0fBJursvT0"
      },
      "source": [
        "#### **5.3.3. Remplaçement des valeurs aberrantes**"
      ]
    },
    {
      "cell_type": "code",
      "metadata": {
        "id": "CitCtCZvoc0R"
      },
      "source": [
        "# Remplaçer les outliers de LoanAmount\n",
        "replace_outliers(df1, 'LoanAmount')"
      ],
      "execution_count": null,
      "outputs": []
    },
    {
      "cell_type": "code",
      "metadata": {
        "id": "Qwo2ZHJwrPM7",
        "colab": {
          "base_uri": "https://localhost:8080/"
        },
        "outputId": "d1e462c2-5761-4e3a-af17-47e5c42345a2"
      },
      "source": [
        "# LoanAmount\n",
        "sns.boxplot(y = 'LoanAmount', data = df1)\n",
        "plt.title(\"Le diagramme en boite des montants de crédits demandées\")\n",
        "plt.xlabel('Le montant')\n",
        "plt.ylabel('La fréquence')\n",
        "plt.show()"
      ],
      "execution_count": null,
      "outputs": [
        {
          "output_type": "display_data",
          "data": {
            "image/png": "[encoded data removed]",
            "text/plain": [
              "<Figure size 432x288 with 1 Axes>"
            ]
          },
          "metadata": {
            "needs_background": "light"
          }
        }
      ]
    },
    {
      "cell_type": "code",
      "metadata": {
        "id": "_5ufbyPorb4a"
      },
      "source": [
        "# Remplaçer les outliers de CoapplicantIncome\n",
        "replace_outliers(df1, 'CoapplicantIncome')"
      ],
      "execution_count": null,
      "outputs": []
    },
    {
      "cell_type": "code",
      "metadata": {
        "id": "s-r4vTsPr50m",
        "colab": {
          "base_uri": "https://localhost:8080/"
        },
        "outputId": "f055e6ed-557a-4de9-b8f7-13c84e430449"
      },
      "source": [
        "# CoapplicantIncome\n",
        "sns.boxplot(y = 'CoapplicantIncome', data = df1)\n",
        "plt.title(\"Le diagramme en boite des revenues des conjoints des demandeurs\")\n",
        "plt.xlabel('Le revenue du conjoint')\n",
        "plt.ylabel('La fréquence')\n",
        "plt.show()"
      ],
      "execution_count": null,
      "outputs": [
        {
          "output_type": "display_data",
          "data": {
            "image/png": "[encoded data removed]",
            "text/plain": [
              "<Figure size 432x288 with 1 Axes>"
            ]
          },
          "metadata": {
            "needs_background": "light"
          }
        }
      ]
    },
    {
      "cell_type": "code",
      "metadata": {
        "id": "b8fA1TP1sEiJ"
      },
      "source": [
        "# Remplaçer les outliers de ApplicantIncome\n",
        "replace_outliers(df1, 'ApplicantIncome')"
      ],
      "execution_count": null,
      "outputs": []
    },
    {
      "cell_type": "code",
      "metadata": {
        "id": "-_W3yTIXsC7c",
        "colab": {
          "base_uri": "https://localhost:8080/"
        },
        "outputId": "8de92fde-bac3-4bd1-ff7b-e80bff62c9e4"
      },
      "source": [
        "# ApplicantIncome\n",
        "sns.boxplot(y = 'ApplicantIncome', data = df1)\n",
        "plt.title(\"Le diagramme en boite des revenues des demandeurs\")\n",
        "plt.xlabel('Le revenue du demandeur')\n",
        "plt.ylabel('La fréquence')\n",
        "plt.show()"
      ],
      "execution_count": null,
      "outputs": [
        {
          "output_type": "display_data",
          "data": {
            "image/png": "[encoded data removed]",
            "text/plain": [
              "<Figure size 432x288 with 1 Axes>"
            ]
          },
          "metadata": {
            "needs_background": "light"
          }
        }
      ]
    },
    {
      "cell_type": "markdown",
      "metadata": {
        "id": "Dg5cGiuni4tX"
      },
      "source": [
        "### **5.4. Encodage des variables catégorielles**"
      ]
    },
    {
      "cell_type": "markdown",
      "metadata": {
        "id": "wA2j_VHdjHIq"
      },
      "source": [
        "#### **5.4.1. Encodage des variables catégorielles nominales**"
      ]
    },
    {
      "cell_type": "code",
      "metadata": {
        "id": "s0uTzByp2IUg",
        "colab": {
          "base_uri": "https://localhost:8080/"
        },
        "outputId": "750629ef-9475-46d0-c706-eb0a55e4f92d"
      },
      "source": [
        "df['Loan_Status'].value_counts()"
      ],
      "execution_count": null,
      "outputs": [
        {
          "output_type": "execute_result",
          "data": {
            "text/plain": [
              "Y    422\n",
              "N    192\n",
              "Name: Loan_Status, dtype: int64"
            ]
          },
          "metadata": {},
          "execution_count": 40
        }
      ]
    },
    {
      "cell_type": "code",
      "metadata": {
        "id": "zQi4NXyVo-zF",
        "colab": {
          "base_uri": "https://localhost:8080/"
        },
        "outputId": "3ae1ba65-4482-4a05-b27d-6ed4425a8b38"
      },
      "source": [
        "# Encodage de la variable Loan_Status\n",
        "# Y --> 1\n",
        "# N --> 0\n",
        "dict_valeurs_loan_status= {'Y':1, 'N':0}\n",
        "\n",
        "df1['Loan_Status'] = df1['Loan_Status'].map(dict_valeurs_loan_status) \n",
        "df1['Loan_Status']"
      ],
      "execution_count": null,
      "outputs": [
        {
          "output_type": "execute_result",
          "data": {
            "text/plain": [
              "0      1\n",
              "1      0\n",
              "2      1\n",
              "3      1\n",
              "4      1\n",
              "      ..\n",
              "609    1\n",
              "610    1\n",
              "611    1\n",
              "612    1\n",
              "613    0\n",
              "Name: Loan_Status, Length: 614, dtype: int64"
            ]
          },
          "metadata": {},
          "execution_count": 41
        }
      ]
    },
    {
      "cell_type": "code",
      "metadata": {
        "id": "G9yZU_qI1c0E",
        "colab": {
          "base_uri": "https://localhost:8080/"
        },
        "outputId": "7f9e0fb7-805a-4f52-c448-acd869de980a"
      },
      "source": [
        "df['Gender'].value_counts()"
      ],
      "execution_count": null,
      "outputs": [
        {
          "output_type": "execute_result",
          "data": {
            "text/plain": [
              "Male      489\n",
              "Female    112\n",
              "Name: Gender, dtype: int64"
            ]
          },
          "metadata": {},
          "execution_count": 42
        }
      ]
    },
    {
      "cell_type": "code",
      "metadata": {
        "id": "_4KV5Z7l1dE9",
        "colab": {
          "base_uri": "https://localhost:8080/"
        },
        "outputId": "50c6be07-65bf-4e4d-c517-183460a83ef6"
      },
      "source": [
        "# Encodage de la variable Gender\n",
        "# Male --> 1\n",
        "# Female --> 0\n",
        "dict_valeurs_gender= {'Male':1, 'Female':0}\n",
        "\n",
        "df1['Gender'] = df1['Gender'].map(dict_valeurs_gender) \n",
        "df1['Gender']"
      ],
      "execution_count": null,
      "outputs": [
        {
          "output_type": "execute_result",
          "data": {
            "text/plain": [
              "0      1\n",
              "1      1\n",
              "2      1\n",
              "3      1\n",
              "4      1\n",
              "      ..\n",
              "609    0\n",
              "610    1\n",
              "611    1\n",
              "612    1\n",
              "613    0\n",
              "Name: Gender, Length: 614, dtype: int64"
            ]
          },
          "metadata": {},
          "execution_count": 43
        }
      ]
    },
    {
      "cell_type": "code",
      "metadata": {
        "id": "2pYF1LEf2m0S",
        "colab": {
          "base_uri": "https://localhost:8080/"
        },
        "outputId": "21be1877-6586-4cca-c930-d8eb37170bad"
      },
      "source": [
        "df1['Married'].value_counts()"
      ],
      "execution_count": null,
      "outputs": [
        {
          "output_type": "execute_result",
          "data": {
            "text/plain": [
              "Yes    401\n",
              "No     213\n",
              "Name: Married, dtype: int64"
            ]
          },
          "metadata": {},
          "execution_count": 44
        }
      ]
    },
    {
      "cell_type": "code",
      "metadata": {
        "id": "0Er_dpCf2l6e",
        "colab": {
          "base_uri": "https://localhost:8080/"
        },
        "outputId": "b140625e-26a6-4767-dae1-c62d1e5a63dc"
      },
      "source": [
        "# Encodage de la variable Married\n",
        "# Yes --> 1\n",
        "# No --> 0\n",
        "dict_valeurs_married= {'Yes':1, 'No':0}\n",
        "\n",
        "df1['Married'] = df1['Married'].map(dict_valeurs_married) \n",
        "df1['Married']"
      ],
      "execution_count": null,
      "outputs": [
        {
          "output_type": "execute_result",
          "data": {
            "text/plain": [
              "0      0\n",
              "1      1\n",
              "2      1\n",
              "3      1\n",
              "4      0\n",
              "      ..\n",
              "609    0\n",
              "610    1\n",
              "611    1\n",
              "612    1\n",
              "613    0\n",
              "Name: Married, Length: 614, dtype: int64"
            ]
          },
          "metadata": {},
          "execution_count": 45
        }
      ]
    },
    {
      "cell_type": "code",
      "metadata": {
        "id": "SrbzieEI3fPa",
        "colab": {
          "base_uri": "https://localhost:8080/"
        },
        "outputId": "dd52b664-0175-4ad3-80c9-e68b3877626e"
      },
      "source": [
        "df['Self_Employed'].value_counts()"
      ],
      "execution_count": null,
      "outputs": [
        {
          "output_type": "execute_result",
          "data": {
            "text/plain": [
              "No     500\n",
              "Yes     82\n",
              "Name: Self_Employed, dtype: int64"
            ]
          },
          "metadata": {},
          "execution_count": 46
        }
      ]
    },
    {
      "cell_type": "code",
      "metadata": {
        "id": "IUPdQKWp3W2I",
        "colab": {
          "base_uri": "https://localhost:8080/"
        },
        "outputId": "73ce2674-f106-48bb-c8f3-3607e0e1434b"
      },
      "source": [
        "# Encodage de la variable Self_Employed\n",
        "# No --> 1\n",
        "# Yes --> 0\n",
        "dict_valeurs_self_employed= {'No':1, 'Yes':0}\n",
        "\n",
        "df1['Self_Employed'] = df1['Self_Employed'].map(dict_valeurs_self_employed) \n",
        "df1['Self_Employed']"
      ],
      "execution_count": null,
      "outputs": [
        {
          "output_type": "execute_result",
          "data": {
            "text/plain": [
              "0      1\n",
              "1      1\n",
              "2      0\n",
              "3      1\n",
              "4      1\n",
              "      ..\n",
              "609    1\n",
              "610    1\n",
              "611    1\n",
              "612    1\n",
              "613    0\n",
              "Name: Self_Employed, Length: 614, dtype: int64"
            ]
          },
          "metadata": {},
          "execution_count": 47
        }
      ]
    },
    {
      "cell_type": "markdown",
      "metadata": {
        "id": "kSnVypHvq1jJ"
      },
      "source": [
        "#### **5.4.2. Encodage des variables catégorique ordinales avec LabelEncoding**"
      ]
    },
    {
      "cell_type": "code",
      "metadata": {
        "id": "wVEiVvwGq-1D",
        "colab": {
          "base_uri": "https://localhost:8080/"
        },
        "outputId": "62964ff2-a0cd-4d07-a0c5-dd1ddfb9b280"
      },
      "source": [
        "# Liste des variables catégorique ordinales = Dependents, Education, Property_Area\n",
        "\n",
        "categoriques_ordinales = ['Dependents', 'Education', 'Property_Area']\n",
        "\n",
        "# On crée une nouvelle instance de LabelEncoder\n",
        "label_encoder = LabelEncoder()\n",
        "\n",
        "# On encode les variables\n",
        "for colonne in df1[categoriques_ordinales]:\n",
        "    df1[colonne] = label_encoder.fit_transform(df1[colonne])\n",
        "\n",
        "df1[categoriques_ordinales]\n",
        "\n"
      ],
      "execution_count": null,
      "outputs": [
        {
          "output_type": "execute_result",
          "data": {
            "text/html": [
              "<div>\n",
              "<style scoped>\n",
              "    .dataframe tbody tr th:only-of-type {\n",
              "        vertical-align: middle;\n",
              "    }\n",
              "\n",
              "    .dataframe tbody tr th {\n",
              "        vertical-align: top;\n",
              "    }\n",
              "\n",
              "    .dataframe thead th {\n",
              "        text-align: right;\n",
              "    }\n",
              "</style>\n",
              "<table border=\"1\" class=\"dataframe\">\n",
              "  <thead>\n",
              "    <tr style=\"text-align: right;\">\n",
              "      <th></th>\n",
              "      <th>Dependents</th>\n",
              "      <th>Education</th>\n",
              "      <th>Property_Area</th>\n",
              "    </tr>\n",
              "  </thead>\n",
              "  <tbody>\n",
              "    <tr>\n",
              "      <th>0</th>\n",
              "      <td>0</td>\n",
              "      <td>0</td>\n",
              "      <td>2</td>\n",
              "    </tr>\n",
              "    <tr>\n",
              "      <th>1</th>\n",
              "      <td>1</td>\n",
              "      <td>0</td>\n",
              "      <td>0</td>\n",
              "    </tr>\n",
              "    <tr>\n",
              "      <th>2</th>\n",
              "      <td>0</td>\n",
              "      <td>0</td>\n",
              "      <td>2</td>\n",
              "    </tr>\n",
              "    <tr>\n",
              "      <th>3</th>\n",
              "      <td>0</td>\n",
              "      <td>1</td>\n",
              "      <td>2</td>\n",
              "    </tr>\n",
              "    <tr>\n",
              "      <th>4</th>\n",
              "      <td>0</td>\n",
              "      <td>0</td>\n",
              "      <td>2</td>\n",
              "    </tr>\n",
              "    <tr>\n",
              "      <th>...</th>\n",
              "      <td>...</td>\n",
              "      <td>...</td>\n",
              "      <td>...</td>\n",
              "    </tr>\n",
              "    <tr>\n",
              "      <th>609</th>\n",
              "      <td>0</td>\n",
              "      <td>0</td>\n",
              "      <td>0</td>\n",
              "    </tr>\n",
              "    <tr>\n",
              "      <th>610</th>\n",
              "      <td>3</td>\n",
              "      <td>0</td>\n",
              "      <td>0</td>\n",
              "    </tr>\n",
              "    <tr>\n",
              "      <th>611</th>\n",
              "      <td>1</td>\n",
              "      <td>0</td>\n",
              "      <td>2</td>\n",
              "    </tr>\n",
              "    <tr>\n",
              "      <th>612</th>\n",
              "      <td>2</td>\n",
              "      <td>0</td>\n",
              "      <td>2</td>\n",
              "    </tr>\n",
              "    <tr>\n",
              "      <th>613</th>\n",
              "      <td>0</td>\n",
              "      <td>0</td>\n",
              "      <td>1</td>\n",
              "    </tr>\n",
              "  </tbody>\n",
              "</table>\n",
              "<p>614 rows × 3 columns</p>\n",
              "</div>"
            ],
            "text/plain": [
              "     Dependents  Education  Property_Area\n",
              "0             0          0              2\n",
              "1             1          0              0\n",
              "2             0          0              2\n",
              "3             0          1              2\n",
              "4             0          0              2\n",
              "..          ...        ...            ...\n",
              "609           0          0              0\n",
              "610           3          0              0\n",
              "611           1          0              2\n",
              "612           2          0              2\n",
              "613           0          0              1\n",
              "\n",
              "[614 rows x 3 columns]"
            ]
          },
          "metadata": {},
          "execution_count": 48
        }
      ]
    },
    {
      "cell_type": "markdown",
      "metadata": {
        "id": "4kkFZ8Au4dlv"
      },
      "source": [
        "## **6. Le résultat de l'étape de pré-traitement des données**"
      ]
    },
    {
      "cell_type": "code",
      "metadata": {
        "id": "DCKe7nWB4td7",
        "colab": {
          "base_uri": "https://localhost:8080/"
        },
        "outputId": "2b3c8f8d-6bf6-463c-ee24-ea5eb6991d8d"
      },
      "source": [
        "# Afficher le dataset après le pré-traitement\n",
        "df1 "
      ],
      "execution_count": null,
      "outputs": [
        {
          "output_type": "execute_result",
          "data": {
            "text/html": [
              "<div>\n",
              "<style scoped>\n",
              "    .dataframe tbody tr th:only-of-type {\n",
              "        vertical-align: middle;\n",
              "    }\n",
              "\n",
              "    .dataframe tbody tr th {\n",
              "        vertical-align: top;\n",
              "    }\n",
              "\n",
              "    .dataframe thead th {\n",
              "        text-align: right;\n",
              "    }\n",
              "</style>\n",
              "<table border=\"1\" class=\"dataframe\">\n",
              "  <thead>\n",
              "    <tr style=\"text-align: right;\">\n",
              "      <th></th>\n",
              "      <th>Gender</th>\n",
              "      <th>Married</th>\n",
              "      <th>Dependents</th>\n",
              "      <th>Education</th>\n",
              "      <th>Self_Employed</th>\n",
              "      <th>ApplicantIncome</th>\n",
              "      <th>CoapplicantIncome</th>\n",
              "      <th>LoanAmount</th>\n",
              "      <th>Loan_Amount_Term</th>\n",
              "      <th>Credit_History</th>\n",
              "      <th>Property_Area</th>\n",
              "      <th>Loan_Status</th>\n",
              "    </tr>\n",
              "  </thead>\n",
              "  <tbody>\n",
              "    <tr>\n",
              "      <th>0</th>\n",
              "      <td>1</td>\n",
              "      <td>0</td>\n",
              "      <td>0</td>\n",
              "      <td>0</td>\n",
              "      <td>1</td>\n",
              "      <td>5849.0</td>\n",
              "      <td>0.0</td>\n",
              "      <td>128.0</td>\n",
              "      <td>360.0</td>\n",
              "      <td>1.0</td>\n",
              "      <td>2</td>\n",
              "      <td>1</td>\n",
              "    </tr>\n",
              "    <tr>\n",
              "      <th>1</th>\n",
              "      <td>1</td>\n",
              "      <td>1</td>\n",
              "      <td>1</td>\n",
              "      <td>0</td>\n",
              "      <td>1</td>\n",
              "      <td>4583.0</td>\n",
              "      <td>1508.0</td>\n",
              "      <td>128.0</td>\n",
              "      <td>360.0</td>\n",
              "      <td>1.0</td>\n",
              "      <td>0</td>\n",
              "      <td>0</td>\n",
              "    </tr>\n",
              "    <tr>\n",
              "      <th>2</th>\n",
              "      <td>1</td>\n",
              "      <td>1</td>\n",
              "      <td>0</td>\n",
              "      <td>0</td>\n",
              "      <td>0</td>\n",
              "      <td>3000.0</td>\n",
              "      <td>0.0</td>\n",
              "      <td>66.0</td>\n",
              "      <td>360.0</td>\n",
              "      <td>1.0</td>\n",
              "      <td>2</td>\n",
              "      <td>1</td>\n",
              "    </tr>\n",
              "    <tr>\n",
              "      <th>3</th>\n",
              "      <td>1</td>\n",
              "      <td>1</td>\n",
              "      <td>0</td>\n",
              "      <td>1</td>\n",
              "      <td>1</td>\n",
              "      <td>2583.0</td>\n",
              "      <td>2358.0</td>\n",
              "      <td>120.0</td>\n",
              "      <td>360.0</td>\n",
              "      <td>1.0</td>\n",
              "      <td>2</td>\n",
              "      <td>1</td>\n",
              "    </tr>\n",
              "    <tr>\n",
              "      <th>4</th>\n",
              "      <td>1</td>\n",
              "      <td>0</td>\n",
              "      <td>0</td>\n",
              "      <td>0</td>\n",
              "      <td>1</td>\n",
              "      <td>6000.0</td>\n",
              "      <td>0.0</td>\n",
              "      <td>141.0</td>\n",
              "      <td>360.0</td>\n",
              "      <td>1.0</td>\n",
              "      <td>2</td>\n",
              "      <td>1</td>\n",
              "    </tr>\n",
              "    <tr>\n",
              "      <th>...</th>\n",
              "      <td>...</td>\n",
              "      <td>...</td>\n",
              "      <td>...</td>\n",
              "      <td>...</td>\n",
              "      <td>...</td>\n",
              "      <td>...</td>\n",
              "      <td>...</td>\n",
              "      <td>...</td>\n",
              "      <td>...</td>\n",
              "      <td>...</td>\n",
              "      <td>...</td>\n",
              "      <td>...</td>\n",
              "    </tr>\n",
              "    <tr>\n",
              "      <th>609</th>\n",
              "      <td>0</td>\n",
              "      <td>0</td>\n",
              "      <td>0</td>\n",
              "      <td>0</td>\n",
              "      <td>1</td>\n",
              "      <td>2900.0</td>\n",
              "      <td>0.0</td>\n",
              "      <td>71.0</td>\n",
              "      <td>360.0</td>\n",
              "      <td>1.0</td>\n",
              "      <td>0</td>\n",
              "      <td>1</td>\n",
              "    </tr>\n",
              "    <tr>\n",
              "      <th>610</th>\n",
              "      <td>1</td>\n",
              "      <td>1</td>\n",
              "      <td>3</td>\n",
              "      <td>0</td>\n",
              "      <td>1</td>\n",
              "      <td>4106.0</td>\n",
              "      <td>0.0</td>\n",
              "      <td>40.0</td>\n",
              "      <td>180.0</td>\n",
              "      <td>1.0</td>\n",
              "      <td>0</td>\n",
              "      <td>1</td>\n",
              "    </tr>\n",
              "    <tr>\n",
              "      <th>611</th>\n",
              "      <td>1</td>\n",
              "      <td>1</td>\n",
              "      <td>1</td>\n",
              "      <td>0</td>\n",
              "      <td>1</td>\n",
              "      <td>8072.0</td>\n",
              "      <td>240.0</td>\n",
              "      <td>253.0</td>\n",
              "      <td>360.0</td>\n",
              "      <td>1.0</td>\n",
              "      <td>2</td>\n",
              "      <td>1</td>\n",
              "    </tr>\n",
              "    <tr>\n",
              "      <th>612</th>\n",
              "      <td>1</td>\n",
              "      <td>1</td>\n",
              "      <td>2</td>\n",
              "      <td>0</td>\n",
              "      <td>1</td>\n",
              "      <td>7583.0</td>\n",
              "      <td>0.0</td>\n",
              "      <td>187.0</td>\n",
              "      <td>360.0</td>\n",
              "      <td>1.0</td>\n",
              "      <td>2</td>\n",
              "      <td>1</td>\n",
              "    </tr>\n",
              "    <tr>\n",
              "      <th>613</th>\n",
              "      <td>0</td>\n",
              "      <td>0</td>\n",
              "      <td>0</td>\n",
              "      <td>0</td>\n",
              "      <td>0</td>\n",
              "      <td>4583.0</td>\n",
              "      <td>0.0</td>\n",
              "      <td>133.0</td>\n",
              "      <td>360.0</td>\n",
              "      <td>0.0</td>\n",
              "      <td>1</td>\n",
              "      <td>0</td>\n",
              "    </tr>\n",
              "  </tbody>\n",
              "</table>\n",
              "<p>614 rows × 12 columns</p>\n",
              "</div>"
            ],
            "text/plain": [
              "     Gender  Married  Dependents  ...  Credit_History  Property_Area  Loan_Status\n",
              "0         1        0           0  ...             1.0              2            1\n",
              "1         1        1           1  ...             1.0              0            0\n",
              "2         1        1           0  ...             1.0              2            1\n",
              "3         1        1           0  ...             1.0              2            1\n",
              "4         1        0           0  ...             1.0              2            1\n",
              "..      ...      ...         ...  ...             ...            ...          ...\n",
              "609       0        0           0  ...             1.0              0            1\n",
              "610       1        1           3  ...             1.0              0            1\n",
              "611       1        1           1  ...             1.0              2            1\n",
              "612       1        1           2  ...             1.0              2            1\n",
              "613       0        0           0  ...             0.0              1            0\n",
              "\n",
              "[614 rows x 12 columns]"
            ]
          },
          "metadata": {},
          "execution_count": 49
        }
      ]
    },
    {
      "cell_type": "markdown",
      "metadata": {
        "id": "H0ejH0eP1Y3P"
      },
      "source": [
        "## **7. Modélisation**"
      ]
    },
    {
      "cell_type": "code",
      "metadata": {
        "id": "Ni7uhOGU8KO_"
      },
      "source": [
        "# Créer une copie de dataframe (df1) résltant de la phase de pré-traitement pour l'utiliser dans la phase de modélisation\n",
        "df_modelisation = df1.copy()"
      ],
      "execution_count": null,
      "outputs": []
    },
    {
      "cell_type": "markdown",
      "metadata": {
        "id": "B20VwGjO1iCs"
      },
      "source": [
        "### **7.1. Dévision des données**"
      ]
    },
    {
      "cell_type": "markdown",
      "metadata": {
        "id": "Mc-1A5C1B1it"
      },
      "source": [
        "\n",
        "- 60% : Données d'entrainement\n",
        "\n",
        "- 20% : Données de validation\n",
        "\n",
        "- 20% : Données de test"
      ]
    },
    {
      "cell_type": "code",
      "metadata": {
        "id": "h_R8dd3V1mvb"
      },
      "source": [
        "# Découper les données en données d'entrainement, de validation et de test avec la fonction train_test_split\n",
        "\n",
        "y = df_modelisation['Loan_Status']\n",
        "X = df_modelisation.drop('Loan_Status', axis = 1)\n",
        "\n",
        "# 100% == 60% -> entrainement et 40% -> test\n",
        "X_train, X_test, y_train, y_test = train_test_split(X, y, test_size = 0.4, random_state = 0, stratify = y)\n",
        "\n",
        "# 40% -> test == 20% -> validation et 20% -> test \n",
        "X_val, X_test, y_val, y_test = train_test_split(X_test, y_test, test_size = 0.5, random_state = 0, stratify = y_test)\n",
        "\n",
        "# Note : \n",
        "# random_state = 0 pour avoir le méme découpage à chaque fois qu'on exécute la cellule\n",
        "# stratify = y/y_test pour avoir la méme distribution de la variable cible dans le données d'entrainement, de validation et de test\n"
      ],
      "execution_count": null,
      "outputs": []
    },
    {
      "cell_type": "code",
      "metadata": {
        "id": "LOcGoq3M_DyB",
        "colab": {
          "base_uri": "https://localhost:8080/"
        },
        "outputId": "65372d53-dae6-484f-8c14-3914d51830d9"
      },
      "source": [
        "print(\"La forme de X_train : \", X_train.shape)\n",
        "print(\"La forme de y_train : \", y_train.shape)\n",
        "print('-'*35)\n",
        "print(\"La forme de X_val   : \", X_val.shape)\n",
        "print(\"La forme de y_val   : \", y_val.shape)\n",
        "print('-'*35)\n",
        "print(\"La forme de X_test  : \", X_test.shape)\n",
        "print(\"La forme de y_test  : \", y_test.shape)"
      ],
      "execution_count": null,
      "outputs": [
        {
          "output_type": "stream",
          "name": "stdout",
          "text": [
            "La forme de X_train :  (368, 11)\n",
            "La forme de y_train :  (368,)\n",
            "-----------------------------------\n",
            "La forme de X_val   :  (123, 11)\n",
            "La forme de y_val   :  (123,)\n",
            "-----------------------------------\n",
            "La forme de X_test  :  (123, 11)\n",
            "La forme de y_test  :  (123,)\n"
          ]
        }
      ]
    },
    {
      "cell_type": "code",
      "metadata": {
        "id": "pzNnKLM_AB0I"
      },
      "source": [
        "# On vérifie la distribution de la variable cible dans chaque portion : train, val et test"
      ],
      "execution_count": null,
      "outputs": []
    },
    {
      "cell_type": "code",
      "metadata": {
        "id": "vJ4Zku4rARjJ",
        "colab": {
          "base_uri": "https://localhost:8080/"
        },
        "outputId": "e6142270-be82-4326-a708-acf59e0a519c"
      },
      "source": [
        "print(\"La distribution de Loan_Status dans les données d'entrainement :\")\n",
        "print(y_train.value_counts(normalize=True))\n",
        "\n",
        "print(\"-\"*65)\n",
        "\n",
        "print(\"La distribution de Loan_Status dans les données de validation :\")\n",
        "print(y_val.value_counts(normalize=True))\n",
        "\n",
        "print(\"-\"*65)\n",
        "\n",
        "print(\"La distribution de Loan_Status dans les données de test :\")\n",
        "print(y_test.value_counts(normalize=True))\n"
      ],
      "execution_count": null,
      "outputs": [
        {
          "output_type": "stream",
          "name": "stdout",
          "text": [
            "La distribution de Loan_Status dans les données d'entrainement :\n",
            "1    0.6875\n",
            "0    0.3125\n",
            "Name: Loan_Status, dtype: float64\n",
            "-----------------------------------------------------------------\n",
            "La distribution de Loan_Status dans les données de validation :\n",
            "1    0.691057\n",
            "0    0.308943\n",
            "Name: Loan_Status, dtype: float64\n",
            "-----------------------------------------------------------------\n",
            "La distribution de Loan_Status dans les données de test :\n",
            "1    0.682927\n",
            "0    0.317073\n",
            "Name: Loan_Status, dtype: float64\n"
          ]
        }
      ]
    },
    {
      "cell_type": "markdown",
      "metadata": {
        "id": "Ispq0V6mBfdc"
      },
      "source": [
        "### **7.2. Implémentation des models**"
      ]
    },
    {
      "cell_type": "markdown",
      "metadata": {
        "id": "_Cf3ApWNCGaN"
      },
      "source": [
        "#### **7.2.1. LogisticRegression (la régression logistique)**"
      ]
    },
    {
      "cell_type": "code",
      "metadata": {
        "id": "mtWHrNphBs4-",
        "colab": {
          "base_uri": "https://localhost:8080/"
        },
        "outputId": "7f085c4e-9a3f-445f-ed61-73381d237ab5"
      },
      "source": [
        "log_reg = LogisticRegression(random_state=0, max_iter=500)\n",
        "\n",
        "# Les hyper-paramétres \n",
        "log_reg_hyp = {\n",
        "    'C': [0.001, 0.01, 0.1, 1, 10, 100]\n",
        "}\n",
        "\n",
        "# Trouver les meilleurs hyperparamètres\n",
        "log_reg_cv = GridSearchCV(log_reg, log_reg_hyp, cv = 5)\n",
        "\n",
        "# Entrainer le model\n",
        "log_reg_cv.fit(X_train, y_train)\n",
        "\n",
        "# Le meilleur score\n",
        "print(\"Le meilleur score est :\", log_reg_cv.best_score_)\n",
        "\n",
        "# Les meilleurs hyperparamètres\n",
        "print(\"Les meilleurs hyperparamètres sont :\", log_reg_cv.best_params_)\n",
        "\n",
        "# Le meilleur estimateur \n",
        "print(\"Le meilleur estimateur est :\", log_reg_cv.best_estimator_)"
      ],
      "execution_count": null,
      "outputs": [
        {
          "output_type": "stream",
          "name": "stdout",
          "text": [
            "Le meilleur score est : 0.793631988152536\n",
            "Les meilleurs hyperparamètres sont : {'C': 1}\n",
            "Le meilleur estimateur est : LogisticRegression(C=1, class_weight=None, dual=False, fit_intercept=True,\n",
            "                   intercept_scaling=1, l1_ratio=None, max_iter=500,\n",
            "                   multi_class='auto', n_jobs=None, penalty='l2',\n",
            "                   random_state=0, solver='lbfgs', tol=0.0001, verbose=0,\n",
            "                   warm_start=False)\n"
          ]
        }
      ]
    },
    {
      "cell_type": "markdown",
      "metadata": {
        "id": "MiVKYIVaPIdp"
      },
      "source": [
        "#### **7.2.2. Kearest Neighbors (les plus proches voisins)**"
      ]
    },
    {
      "cell_type": "code",
      "metadata": {
        "id": "idOEcY3mPIdq",
        "colab": {
          "base_uri": "https://localhost:8080/"
        },
        "outputId": "12264e44-a88c-4fd7-db81-2251ebf78100"
      },
      "source": [
        "knn = KNeighborsClassifier()\n",
        "\n",
        "# Les hyper-paramétres \n",
        "knn_hyp = {\n",
        "    'n_neighbors': np.arange(1, 20),\n",
        "    'metric': ['euclidean', 'manhattan'] \n",
        "}\n",
        "\n",
        "# Trouver les meilleurs hyperparamètres\n",
        "knn_cv = GridSearchCV(knn, knn_hyp, cv = 5)\n",
        "\n",
        "# Entrainer le model\n",
        "knn_cv.fit(X_train, y_train)\n",
        "\n",
        "# Le meilleur score\n",
        "print(\"Le meilleur score est :\", knn_cv.best_score_)\n",
        "\n",
        "# Les meilleurs hyperparamètres\n",
        "print(\"Les meilleurs hyperparamètres sont :\", knn_cv.best_params_)\n",
        "\n",
        "# Le meilleur estimateur \n",
        "print(\"Le meilleur estimateur est :\", knn_cv.best_estimator_)"
      ],
      "execution_count": null,
      "outputs": [
        {
          "output_type": "stream",
          "name": "stdout",
          "text": [
            "Le meilleur score est : 0.6928174750092558\n",
            "Les meilleurs hyperparamètres sont : {'metric': 'euclidean', 'n_neighbors': 9}\n",
            "Le meilleur estimateur est : KNeighborsClassifier(algorithm='auto', leaf_size=30, metric='euclidean',\n",
            "                     metric_params=None, n_jobs=None, n_neighbors=9, p=2,\n",
            "                     weights='uniform')\n"
          ]
        }
      ]
    },
    {
      "cell_type": "markdown",
      "metadata": {
        "id": "qI-84it9Tm9k"
      },
      "source": [
        "#### **7.2.3. Random Forest (Forêt aléatoire)**"
      ]
    },
    {
      "cell_type": "code",
      "metadata": {
        "id": "d7HMWd4HTm9k",
        "colab": {
          "base_uri": "https://localhost:8080/"
        },
        "outputId": "908b9826-b415-4cfd-ba0a-2362ca40cc7d"
      },
      "source": [
        "rf = RandomForestClassifier(random_state=0)\n",
        "\n",
        "# Les hyper-paramétres \n",
        "rf_hyp = {\n",
        "    'n_estimators':[5, 10, 20, 50, 100, 200],\n",
        "    'max_depth':[None, 2, 5, 10, 15, 20]\n",
        "}\n",
        "\n",
        "# Trouver les meilleurs hyperparamètres\n",
        "rf_cv = GridSearchCV(rf, rf_hyp, cv = 5)\n",
        "\n",
        "# Entrainer le model\n",
        "rf_cv.fit(X_train, y_train)\n",
        "\n",
        "# Le meilleur score\n",
        "print(\"Le meilleur score est :\", rf_cv.best_score_)\n",
        "\n",
        "# Les meilleurs hyperparamètres\n",
        "print(\"Les meilleurs hyperparamètres sont :\", rf_cv.best_params_)\n",
        "\n",
        "# Le meilleur estimateur \n",
        "print(\"Le meilleur estimateur est :\", rf_cv.best_estimator_)"
      ],
      "execution_count": null,
      "outputs": [
        {
          "output_type": "stream",
          "name": "stdout",
          "text": [
            "Le meilleur score est : 0.7990373935579415\n",
            "Les meilleurs hyperparamètres sont : {'max_depth': 2, 'n_estimators': 50}\n",
            "Le meilleur estimateur est : RandomForestClassifier(bootstrap=True, ccp_alpha=0.0, class_weight=None,\n",
            "                       criterion='gini', max_depth=2, max_features='auto',\n",
            "                       max_leaf_nodes=None, max_samples=None,\n",
            "                       min_impurity_decrease=0.0, min_impurity_split=None,\n",
            "                       min_samples_leaf=1, min_samples_split=2,\n",
            "                       min_weight_fraction_leaf=0.0, n_estimators=50,\n",
            "                       n_jobs=None, oob_score=False, random_state=0, verbose=0,\n",
            "                       warm_start=False)\n"
          ]
        }
      ]
    },
    {
      "cell_type": "markdown",
      "metadata": {
        "id": "xk4aZx7WuHP3"
      },
      "source": [
        "#### **7.2.4. Bagging Classifier**"
      ]
    },
    {
      "cell_type": "code",
      "metadata": {
        "id": "ZfdOTlwBuGKK",
        "colab": {
          "base_uri": "https://localhost:8080/"
        },
        "outputId": "17f19313-0f77-4523-c1af-f2d1d9c8f7b7"
      },
      "source": [
        "bc = BaggingClassifier(random_state=0)\n",
        "\n",
        "# Les hyper-paramétres \n",
        "bc_hyp = {\n",
        "    'n_estimators':[5, 10, 20, 50, 100, 200]\n",
        "}\n",
        "\n",
        "# Trouver les meilleurs hyperparamètres\n",
        "bc_cv = GridSearchCV(bc, bc_hyp, cv = 5)\n",
        "\n",
        "# Entrainer le model\n",
        "bc_cv.fit(X_train, y_train)\n",
        "\n",
        "# Le meilleur score\n",
        "print(\"Le meilleur score est :\", bc_cv.best_score_)\n",
        "\n",
        "# Les meilleurs hyperparamètres\n",
        "print(\"Les meilleurs hyperparamètres sont :\", bc_cv.best_params_)\n",
        "\n",
        "\n",
        "# Le meilleur estimateur \n",
        "print(\"Le meilleur estimateur est :\", bc_cv.best_estimator_)"
      ],
      "execution_count": null,
      "outputs": [
        {
          "output_type": "stream",
          "name": "stdout",
          "text": [
            "Le meilleur score est : 0.742095520177712\n",
            "Les meilleurs hyperparamètres sont : {'n_estimators': 200}\n",
            "Le meilleur estimateur est : BaggingClassifier(base_estimator=None, bootstrap=True, bootstrap_features=False,\n",
            "                  max_features=1.0, max_samples=1.0, n_estimators=200,\n",
            "                  n_jobs=None, oob_score=False, random_state=0, verbose=0,\n",
            "                  warm_start=False)\n"
          ]
        }
      ]
    },
    {
      "cell_type": "markdown",
      "metadata": {
        "id": "EIDTkUxOv91D"
      },
      "source": [
        "#### **7.2.5. Decision Tree Classifier (Arbre de décision)**"
      ]
    },
    {
      "cell_type": "code",
      "metadata": {
        "id": "WFlwGRHRuT37",
        "colab": {
          "base_uri": "https://localhost:8080/"
        },
        "outputId": "66ff23fc-634f-4652-a240-12d817380d7d"
      },
      "source": [
        "from sklearn.tree import DecisionTreeClassifier\n",
        "\n",
        "dtree = DecisionTreeClassifier(random_state = 0)\n",
        "\n",
        "# Les hyper-paramétres \n",
        "dtree_hyp = {\n",
        "    'criterion':['gini','entropy'],\n",
        "    'max_depth': np.arange(1, 15)\n",
        "}\n",
        "\n",
        "# Trouver les meilleurs hyperparamètres\n",
        "dtree_cv = GridSearchCV(dtree, dtree_hyp, cv = 5)\n",
        "\n",
        "# Entrainer le model\n",
        "dtree_cv.fit(X_train, y_train)\n",
        "\n",
        "# Le meilleur score\n",
        "print(\"Le meilleur score est :\", dtree_cv.best_score_)\n",
        "\n",
        "# Les meilleurs hyperparamètres\n",
        "print(\"Les meilleurs hyperparamètres sont :\", dtree_cv.best_params_)\n",
        "\n",
        "# Le meilleur estimateur \n",
        "print(\"Le meilleur estimateur est :\", dtree_cv.best_estimator_)"
      ],
      "execution_count": null,
      "outputs": [
        {
          "output_type": "stream",
          "name": "stdout",
          "text": [
            "Le meilleur score est : 0.7990373935579415\n",
            "Les meilleurs hyperparamètres sont : {'criterion': 'gini', 'max_depth': 1}\n",
            "Le meilleur estimateur est : DecisionTreeClassifier(ccp_alpha=0.0, class_weight=None, criterion='gini',\n",
            "                       max_depth=1, max_features=None, max_leaf_nodes=None,\n",
            "                       min_impurity_decrease=0.0, min_impurity_split=None,\n",
            "                       min_samples_leaf=1, min_samples_split=2,\n",
            "                       min_weight_fraction_leaf=0.0, presort='deprecated',\n",
            "                       random_state=0, splitter='best')\n"
          ]
        }
      ]
    },
    {
      "cell_type": "code",
      "metadata": {
        "id": "6xvWsgIdQw6k"
      },
      "source": [
        ""
      ],
      "execution_count": null,
      "outputs": []
    },
    {
      "cell_type": "code",
      "metadata": {
        "id": "2U-wSY7gQw4B"
      },
      "source": [
        ""
      ],
      "execution_count": null,
      "outputs": []
    },
    {
      "cell_type": "code",
      "metadata": {
        "id": "UjsjX0aUQw1g"
      },
      "source": [
        ""
      ],
      "execution_count": null,
      "outputs": []
    },
    {
      "cell_type": "code",
      "metadata": {
        "id": "1SbDFM-dQwtw"
      },
      "source": [
        ""
      ],
      "execution_count": null,
      "outputs": []
    },
    {
      "cell_type": "code",
      "metadata": {
        "id": "pjB3VL9eQnJA",
        "colab": {
          "base_uri": "https://localhost:8080/"
        },
        "outputId": "4ac9bf3e-1b8f-4c0b-fd75-41e8f34d967e"
      },
      "source": [
        "svc = SVC()\n",
        "\n",
        "svc_hypr = {\n",
        "              'C': [0.1, 1, 10],\n",
        "              'gamma': [1, 0.1, 0.01, 0.001, 0.0001],\n",
        "              'kernel': ['rbf']\n",
        "            }\n",
        "# Trouver les meilleurs hyperparamètres\n",
        "scv_cv = GridSearchCV(svc, svc_hypr, cv = 5)\n",
        "\n",
        "# Entrainer le model\n",
        "scv_cv.fit(X_train, y_train)\n",
        "\n",
        "# Le meilleur score\n",
        "print(\"Le meilleur score est :\", scv_cv.best_score_)\n",
        "\n",
        "# Les meilleurs hyperparamètres\n",
        "print(\"Les meilleurs hyperparamètres sont :\", scv_cv.best_params_)\n",
        "\n",
        "# Le meilleur estimateur \n",
        "print(\"Le meilleur estimateur est :\", scv_cv.best_estimator_)"
      ],
      "execution_count": null,
      "outputs": [
        {
          "output_type": "stream",
          "name": "stdout",
          "text": [
            "Le meilleur score est : 0.6875231395779342\n",
            "Les meilleurs hyperparamètres sont : {'C': 1, 'gamma': 0.001, 'kernel': 'rbf'}\n",
            "Le meilleur estimateur est : SVC(C=1, break_ties=False, cache_size=200, class_weight=None, coef0=0.0,\n",
            "    decision_function_shape='ovr', degree=3, gamma=0.001, kernel='rbf',\n",
            "    max_iter=-1, probability=False, random_state=None, shrinking=True,\n",
            "    tol=0.001, verbose=False)\n"
          ]
        }
      ]
    },
    {
      "cell_type": "code",
      "metadata": {
        "id": "9Pwbf6nOQxrO"
      },
      "source": [
        ""
      ],
      "execution_count": null,
      "outputs": []
    },
    {
      "cell_type": "code",
      "metadata": {
        "id": "J4drnl9SQxon"
      },
      "source": [
        ""
      ],
      "execution_count": null,
      "outputs": []
    },
    {
      "cell_type": "markdown",
      "metadata": {
        "id": "ZIgVrbG9vRFM"
      },
      "source": [
        "#### **7.3. Évaluation des performances et choix du modèle**"
      ]
    },
    {
      "cell_type": "code",
      "metadata": {
        "id": "g0WlmXwDvmOE"
      },
      "source": [
        "def model_evaluation(model, features, label):\n",
        "    \"\"\"\n",
        "    Fonction qui permet d'évaluer les performances d'un modèle\n",
        "    \"\"\"\n",
        "    \n",
        "    pred = model.predict(features)\n",
        "    score = accuracy_score(label, pred)\n",
        "    print('Score global du modèle :', score)"
      ],
      "execution_count": null,
      "outputs": []
    },
    {
      "cell_type": "code",
      "metadata": {
        "id": "cdtw9_wdv9zc",
        "colab": {
          "base_uri": "https://localhost:8080/"
        },
        "outputId": "920352de-c34d-4602-e21a-28854cf88833"
      },
      "source": [
        "# Liste des models à évaluer\n",
        "list_models = [\n",
        "                log_reg_cv.best_estimator_,\n",
        "                knn_cv.best_estimator_,\n",
        "                rf_cv.best_estimator_,\n",
        "                bc_cv.best_estimator_,\n",
        "                dtree_cv.best_estimator_,\n",
        "                scv_cv.best_estimator_\n",
        "                ]\n",
        "\n",
        "for model in list_models:\n",
        "  print('Modèle ' + str(model))\n",
        "  model_evaluation(model, X_val, y_val)\n",
        "  print('-'*90)"
      ],
      "execution_count": null,
      "outputs": [
        {
          "output_type": "stream",
          "name": "stdout",
          "text": [
            "Modèle LogisticRegression(C=1, class_weight=None, dual=False, fit_intercept=True,\n",
            "                   intercept_scaling=1, l1_ratio=None, max_iter=500,\n",
            "                   multi_class='auto', n_jobs=None, penalty='l2',\n",
            "                   random_state=0, solver='lbfgs', tol=0.0001, verbose=0,\n",
            "                   warm_start=False)\n",
            "Score global du modèle : 0.8373983739837398\n",
            "------------------------------------------------------------------------------------------\n",
            "Modèle KNeighborsClassifier(algorithm='auto', leaf_size=30, metric='euclidean',\n",
            "                     metric_params=None, n_jobs=None, n_neighbors=9, p=2,\n",
            "                     weights='uniform')\n",
            "Score global du modèle : 0.6991869918699187\n",
            "------------------------------------------------------------------------------------------\n",
            "Modèle RandomForestClassifier(bootstrap=True, ccp_alpha=0.0, class_weight=None,\n",
            "                       criterion='gini', max_depth=2, max_features='auto',\n",
            "                       max_leaf_nodes=None, max_samples=None,\n",
            "                       min_impurity_decrease=0.0, min_impurity_split=None,\n",
            "                       min_samples_leaf=1, min_samples_split=2,\n",
            "                       min_weight_fraction_leaf=0.0, n_estimators=50,\n",
            "                       n_jobs=None, oob_score=False, random_state=0, verbose=0,\n",
            "                       warm_start=False)\n",
            "Score global du modèle : 0.8373983739837398\n",
            "------------------------------------------------------------------------------------------\n",
            "Modèle BaggingClassifier(base_estimator=None, bootstrap=True, bootstrap_features=False,\n",
            "                  max_features=1.0, max_samples=1.0, n_estimators=200,\n",
            "                  n_jobs=None, oob_score=False, random_state=0, verbose=0,\n",
            "                  warm_start=False)\n",
            "Score global du modèle : 0.8130081300813008\n",
            "------------------------------------------------------------------------------------------\n",
            "Modèle DecisionTreeClassifier(ccp_alpha=0.0, class_weight=None, criterion='gini',\n",
            "                       max_depth=1, max_features=None, max_leaf_nodes=None,\n",
            "                       min_impurity_decrease=0.0, min_impurity_split=None,\n",
            "                       min_samples_leaf=1, min_samples_split=2,\n",
            "                       min_weight_fraction_leaf=0.0, presort='deprecated',\n",
            "                       random_state=0, splitter='best')\n",
            "Score global du modèle : 0.8373983739837398\n",
            "------------------------------------------------------------------------------------------\n",
            "Modèle SVC(C=1, break_ties=False, cache_size=200, class_weight=None, coef0=0.0,\n",
            "    decision_function_shape='ovr', degree=3, gamma=0.001, kernel='rbf',\n",
            "    max_iter=-1, probability=False, random_state=None, shrinking=True,\n",
            "    tol=0.001, verbose=False)\n",
            "Score global du modèle : 0.6991869918699187\n",
            "------------------------------------------------------------------------------------------\n"
          ]
        }
      ]
    },
    {
      "cell_type": "markdown",
      "metadata": {
        "id": "iOb72zaexg7u"
      },
      "source": [
        "#### **7.4. Performance du meilleur modèle sur les données de test**"
      ]
    },
    {
      "cell_type": "code",
      "metadata": {
        "id": "cOSxZGNxxwie",
        "colab": {
          "base_uri": "https://localhost:8080/"
        },
        "outputId": "19e63228-aefa-4f2a-982c-2d741aaadb90"
      },
      "source": [
        "accuracy_score(y_test, log_reg_cv.best_estimator_.predict(X_test))"
      ],
      "execution_count": null,
      "outputs": [
        {
          "output_type": "execute_result",
          "data": {
            "text/plain": [
              "0.8130081300813008"
            ]
          },
          "metadata": {},
          "execution_count": 63
        }
      ]
    }
  ]
}